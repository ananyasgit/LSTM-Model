{
  "nbformat": 4,
  "nbformat_minor": 0,
  "metadata": {
    "colab": {
      "name": "LSTM2.ipynb",
      "provenance": [],
      "authorship_tag": "ABX9TyNcO9w+93pXdPrvFqOZW3Fl"
    },
    "kernelspec": {
      "name": "python3",
      "display_name": "Python 3"
    },
    "language_info": {
      "name": "python"
    }
  },
  "cells": [
    {
      "cell_type": "markdown",
      "source": [
        "**LSTM Model for predicting spam or ham**\n",
        "\n",
        "---\n",
        "\n"
      ],
      "metadata": {
        "id": "YDoIgDwQmrt_"
      }
    },
    {
      "cell_type": "code",
      "execution_count": null,
      "metadata": {
        "id": "AjNr5VI1Gmr9"
      },
      "outputs": [],
      "source": [
        "import pandas as pd\n",
        "import numpy as np\n",
        "import re\n",
        "import collections\n",
        "import seaborn as sns\n",
        "import matplotlib.pyplot as plt\n",
        "from sklearn.model_selection import train_test_split\n",
        "import tensorflow as tf\n",
        "import nltk\n",
        "from nltk.corpus import stopwords\n",
        "import keras\n",
        "import keras.utils \n",
        "from keras.layers import Dense, Flatten ,Embedding,Input, LSTM, Dropout\n",
        "from keras.models import Sequential\n",
        "from keras.preprocessing.text import Tokenizer\n",
        "from keras.preprocessing.sequence import pad_sequences\n",
        "from keras.models import Model\n",
        "from tensorflow.keras.callbacks import EarlyStopping"
      ]
    },
    {
      "cell_type": "code",
      "source": [
        "df = pd.read_csv(\"/content/spam.csv\", encoding=\"latin-1\")\n",
        "df.head()"
      ],
      "metadata": {
        "colab": {
          "base_uri": "https://localhost:8080/",
          "height": 206
        },
        "id": "-7HUunHFGpUe",
        "outputId": "dab6064a-bebb-4f68-d2b8-753b79486fb3"
      },
      "execution_count": null,
      "outputs": [
        {
          "output_type": "execute_result",
          "data": {
            "text/plain": [
              "     v1                                                 v2 Unnamed: 2  \\\n",
              "0   ham  Go until jurong point, crazy.. Available only ...        NaN   \n",
              "1   ham                      Ok lar... Joking wif u oni...        NaN   \n",
              "2  spam  Free entry in 2 a wkly comp to win FA Cup fina...        NaN   \n",
              "3   ham  U dun say so early hor... U c already then say...        NaN   \n",
              "4   ham  Nah I don't think he goes to usf, he lives aro...        NaN   \n",
              "\n",
              "  Unnamed: 3 Unnamed: 4  \n",
              "0        NaN        NaN  \n",
              "1        NaN        NaN  \n",
              "2        NaN        NaN  \n",
              "3        NaN        NaN  \n",
              "4        NaN        NaN  "
            ],
            "text/html": [
              "\n",
              "  <div id=\"df-27a9ba1a-392b-47a2-812e-644055d9986f\">\n",
              "    <div class=\"colab-df-container\">\n",
              "      <div>\n",
              "<style scoped>\n",
              "    .dataframe tbody tr th:only-of-type {\n",
              "        vertical-align: middle;\n",
              "    }\n",
              "\n",
              "    .dataframe tbody tr th {\n",
              "        vertical-align: top;\n",
              "    }\n",
              "\n",
              "    .dataframe thead th {\n",
              "        text-align: right;\n",
              "    }\n",
              "</style>\n",
              "<table border=\"1\" class=\"dataframe\">\n",
              "  <thead>\n",
              "    <tr style=\"text-align: right;\">\n",
              "      <th></th>\n",
              "      <th>v1</th>\n",
              "      <th>v2</th>\n",
              "      <th>Unnamed: 2</th>\n",
              "      <th>Unnamed: 3</th>\n",
              "      <th>Unnamed: 4</th>\n",
              "    </tr>\n",
              "  </thead>\n",
              "  <tbody>\n",
              "    <tr>\n",
              "      <th>0</th>\n",
              "      <td>ham</td>\n",
              "      <td>Go until jurong point, crazy.. Available only ...</td>\n",
              "      <td>NaN</td>\n",
              "      <td>NaN</td>\n",
              "      <td>NaN</td>\n",
              "    </tr>\n",
              "    <tr>\n",
              "      <th>1</th>\n",
              "      <td>ham</td>\n",
              "      <td>Ok lar... Joking wif u oni...</td>\n",
              "      <td>NaN</td>\n",
              "      <td>NaN</td>\n",
              "      <td>NaN</td>\n",
              "    </tr>\n",
              "    <tr>\n",
              "      <th>2</th>\n",
              "      <td>spam</td>\n",
              "      <td>Free entry in 2 a wkly comp to win FA Cup fina...</td>\n",
              "      <td>NaN</td>\n",
              "      <td>NaN</td>\n",
              "      <td>NaN</td>\n",
              "    </tr>\n",
              "    <tr>\n",
              "      <th>3</th>\n",
              "      <td>ham</td>\n",
              "      <td>U dun say so early hor... U c already then say...</td>\n",
              "      <td>NaN</td>\n",
              "      <td>NaN</td>\n",
              "      <td>NaN</td>\n",
              "    </tr>\n",
              "    <tr>\n",
              "      <th>4</th>\n",
              "      <td>ham</td>\n",
              "      <td>Nah I don't think he goes to usf, he lives aro...</td>\n",
              "      <td>NaN</td>\n",
              "      <td>NaN</td>\n",
              "      <td>NaN</td>\n",
              "    </tr>\n",
              "  </tbody>\n",
              "</table>\n",
              "</div>\n",
              "      <button class=\"colab-df-convert\" onclick=\"convertToInteractive('df-27a9ba1a-392b-47a2-812e-644055d9986f')\"\n",
              "              title=\"Convert this dataframe to an interactive table.\"\n",
              "              style=\"display:none;\">\n",
              "        \n",
              "  <svg xmlns=\"http://www.w3.org/2000/svg\" height=\"24px\"viewBox=\"0 0 24 24\"\n",
              "       width=\"24px\">\n",
              "    <path d=\"M0 0h24v24H0V0z\" fill=\"none\"/>\n",
              "    <path d=\"M18.56 5.44l.94 2.06.94-2.06 2.06-.94-2.06-.94-.94-2.06-.94 2.06-2.06.94zm-11 1L8.5 8.5l.94-2.06 2.06-.94-2.06-.94L8.5 2.5l-.94 2.06-2.06.94zm10 10l.94 2.06.94-2.06 2.06-.94-2.06-.94-.94-2.06-.94 2.06-2.06.94z\"/><path d=\"M17.41 7.96l-1.37-1.37c-.4-.4-.92-.59-1.43-.59-.52 0-1.04.2-1.43.59L10.3 9.45l-7.72 7.72c-.78.78-.78 2.05 0 2.83L4 21.41c.39.39.9.59 1.41.59.51 0 1.02-.2 1.41-.59l7.78-7.78 2.81-2.81c.8-.78.8-2.07 0-2.86zM5.41 20L4 18.59l7.72-7.72 1.47 1.35L5.41 20z\"/>\n",
              "  </svg>\n",
              "      </button>\n",
              "      \n",
              "  <style>\n",
              "    .colab-df-container {\n",
              "      display:flex;\n",
              "      flex-wrap:wrap;\n",
              "      gap: 12px;\n",
              "    }\n",
              "\n",
              "    .colab-df-convert {\n",
              "      background-color: #E8F0FE;\n",
              "      border: none;\n",
              "      border-radius: 50%;\n",
              "      cursor: pointer;\n",
              "      display: none;\n",
              "      fill: #1967D2;\n",
              "      height: 32px;\n",
              "      padding: 0 0 0 0;\n",
              "      width: 32px;\n",
              "    }\n",
              "\n",
              "    .colab-df-convert:hover {\n",
              "      background-color: #E2EBFA;\n",
              "      box-shadow: 0px 1px 2px rgba(60, 64, 67, 0.3), 0px 1px 3px 1px rgba(60, 64, 67, 0.15);\n",
              "      fill: #174EA6;\n",
              "    }\n",
              "\n",
              "    [theme=dark] .colab-df-convert {\n",
              "      background-color: #3B4455;\n",
              "      fill: #D2E3FC;\n",
              "    }\n",
              "\n",
              "    [theme=dark] .colab-df-convert:hover {\n",
              "      background-color: #434B5C;\n",
              "      box-shadow: 0px 1px 3px 1px rgba(0, 0, 0, 0.15);\n",
              "      filter: drop-shadow(0px 1px 2px rgba(0, 0, 0, 0.3));\n",
              "      fill: #FFFFFF;\n",
              "    }\n",
              "  </style>\n",
              "\n",
              "      <script>\n",
              "        const buttonEl =\n",
              "          document.querySelector('#df-27a9ba1a-392b-47a2-812e-644055d9986f button.colab-df-convert');\n",
              "        buttonEl.style.display =\n",
              "          google.colab.kernel.accessAllowed ? 'block' : 'none';\n",
              "\n",
              "        async function convertToInteractive(key) {\n",
              "          const element = document.querySelector('#df-27a9ba1a-392b-47a2-812e-644055d9986f');\n",
              "          const dataTable =\n",
              "            await google.colab.kernel.invokeFunction('convertToInteractive',\n",
              "                                                     [key], {});\n",
              "          if (!dataTable) return;\n",
              "\n",
              "          const docLinkHtml = 'Like what you see? Visit the ' +\n",
              "            '<a target=\"_blank\" href=https://colab.research.google.com/notebooks/data_table.ipynb>data table notebook</a>'\n",
              "            + ' to learn more about interactive tables.';\n",
              "          element.innerHTML = '';\n",
              "          dataTable['output_type'] = 'display_data';\n",
              "          await google.colab.output.renderOutput(dataTable, element);\n",
              "          const docLink = document.createElement('div');\n",
              "          docLink.innerHTML = docLinkHtml;\n",
              "          element.appendChild(docLink);\n",
              "        }\n",
              "      </script>\n",
              "    </div>\n",
              "  </div>\n",
              "  "
            ]
          },
          "metadata": {},
          "execution_count": 4
        }
      ]
    },
    {
      "cell_type": "code",
      "source": [
        "new_df = df.filter(['v1', 'v2'])\n",
        "new_df"
      ],
      "metadata": {
        "colab": {
          "base_uri": "https://localhost:8080/",
          "height": 423
        },
        "id": "xCpELHBvGs3r",
        "outputId": "dccaff98-2cd7-4de1-a0a6-0f11f1f9c793"
      },
      "execution_count": null,
      "outputs": [
        {
          "output_type": "execute_result",
          "data": {
            "text/plain": [
              "        v1                                                 v2\n",
              "0      ham  Go until jurong point, crazy.. Available only ...\n",
              "1      ham                      Ok lar... Joking wif u oni...\n",
              "2     spam  Free entry in 2 a wkly comp to win FA Cup fina...\n",
              "3      ham  U dun say so early hor... U c already then say...\n",
              "4      ham  Nah I don't think he goes to usf, he lives aro...\n",
              "...    ...                                                ...\n",
              "5567  spam  This is the 2nd time we have tried 2 contact u...\n",
              "5568   ham              Will Ì_ b going to esplanade fr home?\n",
              "5569   ham  Pity, * was in mood for that. So...any other s...\n",
              "5570   ham  The guy did some bitching but I acted like i'd...\n",
              "5571   ham                         Rofl. Its true to its name\n",
              "\n",
              "[5572 rows x 2 columns]"
            ],
            "text/html": [
              "\n",
              "  <div id=\"df-8d683b91-4c12-4283-9e29-d61762dff8f6\">\n",
              "    <div class=\"colab-df-container\">\n",
              "      <div>\n",
              "<style scoped>\n",
              "    .dataframe tbody tr th:only-of-type {\n",
              "        vertical-align: middle;\n",
              "    }\n",
              "\n",
              "    .dataframe tbody tr th {\n",
              "        vertical-align: top;\n",
              "    }\n",
              "\n",
              "    .dataframe thead th {\n",
              "        text-align: right;\n",
              "    }\n",
              "</style>\n",
              "<table border=\"1\" class=\"dataframe\">\n",
              "  <thead>\n",
              "    <tr style=\"text-align: right;\">\n",
              "      <th></th>\n",
              "      <th>v1</th>\n",
              "      <th>v2</th>\n",
              "    </tr>\n",
              "  </thead>\n",
              "  <tbody>\n",
              "    <tr>\n",
              "      <th>0</th>\n",
              "      <td>ham</td>\n",
              "      <td>Go until jurong point, crazy.. Available only ...</td>\n",
              "    </tr>\n",
              "    <tr>\n",
              "      <th>1</th>\n",
              "      <td>ham</td>\n",
              "      <td>Ok lar... Joking wif u oni...</td>\n",
              "    </tr>\n",
              "    <tr>\n",
              "      <th>2</th>\n",
              "      <td>spam</td>\n",
              "      <td>Free entry in 2 a wkly comp to win FA Cup fina...</td>\n",
              "    </tr>\n",
              "    <tr>\n",
              "      <th>3</th>\n",
              "      <td>ham</td>\n",
              "      <td>U dun say so early hor... U c already then say...</td>\n",
              "    </tr>\n",
              "    <tr>\n",
              "      <th>4</th>\n",
              "      <td>ham</td>\n",
              "      <td>Nah I don't think he goes to usf, he lives aro...</td>\n",
              "    </tr>\n",
              "    <tr>\n",
              "      <th>...</th>\n",
              "      <td>...</td>\n",
              "      <td>...</td>\n",
              "    </tr>\n",
              "    <tr>\n",
              "      <th>5567</th>\n",
              "      <td>spam</td>\n",
              "      <td>This is the 2nd time we have tried 2 contact u...</td>\n",
              "    </tr>\n",
              "    <tr>\n",
              "      <th>5568</th>\n",
              "      <td>ham</td>\n",
              "      <td>Will Ì_ b going to esplanade fr home?</td>\n",
              "    </tr>\n",
              "    <tr>\n",
              "      <th>5569</th>\n",
              "      <td>ham</td>\n",
              "      <td>Pity, * was in mood for that. So...any other s...</td>\n",
              "    </tr>\n",
              "    <tr>\n",
              "      <th>5570</th>\n",
              "      <td>ham</td>\n",
              "      <td>The guy did some bitching but I acted like i'd...</td>\n",
              "    </tr>\n",
              "    <tr>\n",
              "      <th>5571</th>\n",
              "      <td>ham</td>\n",
              "      <td>Rofl. Its true to its name</td>\n",
              "    </tr>\n",
              "  </tbody>\n",
              "</table>\n",
              "<p>5572 rows × 2 columns</p>\n",
              "</div>\n",
              "      <button class=\"colab-df-convert\" onclick=\"convertToInteractive('df-8d683b91-4c12-4283-9e29-d61762dff8f6')\"\n",
              "              title=\"Convert this dataframe to an interactive table.\"\n",
              "              style=\"display:none;\">\n",
              "        \n",
              "  <svg xmlns=\"http://www.w3.org/2000/svg\" height=\"24px\"viewBox=\"0 0 24 24\"\n",
              "       width=\"24px\">\n",
              "    <path d=\"M0 0h24v24H0V0z\" fill=\"none\"/>\n",
              "    <path d=\"M18.56 5.44l.94 2.06.94-2.06 2.06-.94-2.06-.94-.94-2.06-.94 2.06-2.06.94zm-11 1L8.5 8.5l.94-2.06 2.06-.94-2.06-.94L8.5 2.5l-.94 2.06-2.06.94zm10 10l.94 2.06.94-2.06 2.06-.94-2.06-.94-.94-2.06-.94 2.06-2.06.94z\"/><path d=\"M17.41 7.96l-1.37-1.37c-.4-.4-.92-.59-1.43-.59-.52 0-1.04.2-1.43.59L10.3 9.45l-7.72 7.72c-.78.78-.78 2.05 0 2.83L4 21.41c.39.39.9.59 1.41.59.51 0 1.02-.2 1.41-.59l7.78-7.78 2.81-2.81c.8-.78.8-2.07 0-2.86zM5.41 20L4 18.59l7.72-7.72 1.47 1.35L5.41 20z\"/>\n",
              "  </svg>\n",
              "      </button>\n",
              "      \n",
              "  <style>\n",
              "    .colab-df-container {\n",
              "      display:flex;\n",
              "      flex-wrap:wrap;\n",
              "      gap: 12px;\n",
              "    }\n",
              "\n",
              "    .colab-df-convert {\n",
              "      background-color: #E8F0FE;\n",
              "      border: none;\n",
              "      border-radius: 50%;\n",
              "      cursor: pointer;\n",
              "      display: none;\n",
              "      fill: #1967D2;\n",
              "      height: 32px;\n",
              "      padding: 0 0 0 0;\n",
              "      width: 32px;\n",
              "    }\n",
              "\n",
              "    .colab-df-convert:hover {\n",
              "      background-color: #E2EBFA;\n",
              "      box-shadow: 0px 1px 2px rgba(60, 64, 67, 0.3), 0px 1px 3px 1px rgba(60, 64, 67, 0.15);\n",
              "      fill: #174EA6;\n",
              "    }\n",
              "\n",
              "    [theme=dark] .colab-df-convert {\n",
              "      background-color: #3B4455;\n",
              "      fill: #D2E3FC;\n",
              "    }\n",
              "\n",
              "    [theme=dark] .colab-df-convert:hover {\n",
              "      background-color: #434B5C;\n",
              "      box-shadow: 0px 1px 3px 1px rgba(0, 0, 0, 0.15);\n",
              "      filter: drop-shadow(0px 1px 2px rgba(0, 0, 0, 0.3));\n",
              "      fill: #FFFFFF;\n",
              "    }\n",
              "  </style>\n",
              "\n",
              "      <script>\n",
              "        const buttonEl =\n",
              "          document.querySelector('#df-8d683b91-4c12-4283-9e29-d61762dff8f6 button.colab-df-convert');\n",
              "        buttonEl.style.display =\n",
              "          google.colab.kernel.accessAllowed ? 'block' : 'none';\n",
              "\n",
              "        async function convertToInteractive(key) {\n",
              "          const element = document.querySelector('#df-8d683b91-4c12-4283-9e29-d61762dff8f6');\n",
              "          const dataTable =\n",
              "            await google.colab.kernel.invokeFunction('convertToInteractive',\n",
              "                                                     [key], {});\n",
              "          if (!dataTable) return;\n",
              "\n",
              "          const docLinkHtml = 'Like what you see? Visit the ' +\n",
              "            '<a target=\"_blank\" href=https://colab.research.google.com/notebooks/data_table.ipynb>data table notebook</a>'\n",
              "            + ' to learn more about interactive tables.';\n",
              "          element.innerHTML = '';\n",
              "          dataTable['output_type'] = 'display_data';\n",
              "          await google.colab.output.renderOutput(dataTable, element);\n",
              "          const docLink = document.createElement('div');\n",
              "          docLink.innerHTML = docLinkHtml;\n",
              "          element.appendChild(docLink);\n",
              "        }\n",
              "      </script>\n",
              "    </div>\n",
              "  </div>\n",
              "  "
            ]
          },
          "metadata": {},
          "execution_count": 5
        }
      ]
    },
    {
      "cell_type": "code",
      "source": [
        "label=df.v1\n",
        "from sklearn.preprocessing import LabelEncoder\n",
        "le=LabelEncoder()\n",
        "Y=le.fit_transform(label)\n",
        "Y=Y.reshape(-1,1)\n",
        "Y\n"
      ],
      "metadata": {
        "colab": {
          "base_uri": "https://localhost:8080/"
        },
        "id": "tjzT5rhmG0Rh",
        "outputId": "ea8e5652-66ee-4021-fcc8-27eaa712fffa"
      },
      "execution_count": null,
      "outputs": [
        {
          "output_type": "execute_result",
          "data": {
            "text/plain": [
              "array([[0],\n",
              "       [0],\n",
              "       [1],\n",
              "       ...,\n",
              "       [0],\n",
              "       [0],\n",
              "       [0]])"
            ]
          },
          "metadata": {},
          "execution_count": 6
        }
      ]
    },
    {
      "cell_type": "code",
      "source": [
        "Y.shape"
      ],
      "metadata": {
        "colab": {
          "base_uri": "https://localhost:8080/"
        },
        "id": "puTg-X4d7AoM",
        "outputId": "625732d0-87d6-4396-e0f4-75ecba467aae"
      },
      "execution_count": null,
      "outputs": [
        {
          "output_type": "execute_result",
          "data": {
            "text/plain": [
              "(5572, 1)"
            ]
          },
          "metadata": {},
          "execution_count": 7
        }
      ]
    },
    {
      "cell_type": "code",
      "source": [
        "new_df['v2'] = new_df['v2'].apply((lambda y:re.sub(\"http://\\S+\",\" \", y)))\n",
        "new_df['v2'] = new_df['v2'].apply((lambda x:re.sub(\"\\@\", \" \",x.lower())))\n",
        "new_df['v2'] = new_df['v2'].apply((lambda z:re.sub(r'[^\\w\\s]', '', z)))\n",
        "nltk.download('stopwords')\n",
        "stop = stopwords.words('english')\n",
        "new_df['v2']= new_df['v2'].apply(lambda x: ' '.join([word for word in x.split() if word not in stop]))\n",
        "new_df.v2"
      ],
      "metadata": {
        "colab": {
          "base_uri": "https://localhost:8080/"
        },
        "id": "8vXu4zkkGvot",
        "outputId": "12172e69-2337-4b75-b829-2a90fa1254b2"
      },
      "execution_count": null,
      "outputs": [
        {
          "output_type": "stream",
          "name": "stderr",
          "text": [
            "[nltk_data] Downloading package stopwords to /root/nltk_data...\n",
            "[nltk_data]   Unzipping corpora/stopwords.zip.\n"
          ]
        },
        {
          "output_type": "execute_result",
          "data": {
            "text/plain": [
              "0       go jurong point crazy available bugis n great ...\n",
              "1                                 ok lar joking wif u oni\n",
              "2       free entry 2 wkly comp win fa cup final tkts 2...\n",
              "3                     u dun say early hor u c already say\n",
              "4             nah dont think goes usf lives around though\n",
              "                              ...                        \n",
              "5567    2nd time tried 2 contact u u å750 pound prize ...\n",
              "5568                         ì_ b going esplanade fr home\n",
              "5569                          pity mood soany suggestions\n",
              "5570    guy bitching acted like id interested buying s...\n",
              "5571                                       rofl true name\n",
              "Name: v2, Length: 5572, dtype: object"
            ]
          },
          "metadata": {},
          "execution_count": 8
        }
      ]
    },
    {
      "cell_type": "code",
      "source": [
        "plt.figure(figsize=(8,6))\n",
        "sns.countplot(new_df.v1)\n",
        "# Percentage of spam messages\n",
        "#(len(spam_msg)/len(ham_msg))*100"
      ],
      "metadata": {
        "colab": {
          "base_uri": "https://localhost:8080/",
          "height": 460
        },
        "id": "kzzQ0U57HwSv",
        "outputId": "28287f34-b035-40c0-8c73-3109a942a063"
      },
      "execution_count": null,
      "outputs": [
        {
          "output_type": "stream",
          "name": "stderr",
          "text": [
            "/usr/local/lib/python3.7/dist-packages/seaborn/_decorators.py:43: FutureWarning: Pass the following variable as a keyword arg: x. From version 0.12, the only valid positional argument will be `data`, and passing other arguments without an explicit keyword will result in an error or misinterpretation.\n",
            "  FutureWarning\n"
          ]
        },
        {
          "output_type": "execute_result",
          "data": {
            "text/plain": [
              "<matplotlib.axes._subplots.AxesSubplot at 0x7f3247063150>"
            ]
          },
          "metadata": {},
          "execution_count": 9
        },
        {
          "output_type": "display_data",
          "data": {
            "text/plain": [
              "<Figure size 576x432 with 1 Axes>"
            ],
            "image/png": "[encoded data removed]"
          },
          "metadata": {
            "needs_background": "light"
          }
        }
      ]
    },
    {
      "cell_type": "code",
      "source": [
        "ham_msg = new_df[new_df.v1 =='ham']\n",
        "spam_msg = new_df[new_df.v1=='spam']"
      ],
      "metadata": {
        "id": "1SAns9voIvLi"
      },
      "execution_count": null,
      "outputs": []
    },
    {
      "cell_type": "code",
      "source": [
        "ham_msg_df = ham_msg.sample(n = len(spam_msg), random_state = 44)\n",
        "spam_msg_df = spam_msg\n",
        "print(ham_msg_df.shape, spam_msg_df.shape)"
      ],
      "metadata": {
        "colab": {
          "base_uri": "https://localhost:8080/"
        },
        "id": "lI0wJasYIvTt",
        "outputId": "a84879b5-d7d5-4ae6-8c9a-fb645bcc2483"
      },
      "execution_count": null,
      "outputs": [
        {
          "output_type": "stream",
          "name": "stdout",
          "text": [
            "(747, 2) (747, 2)\n"
          ]
        }
      ]
    },
    {
      "cell_type": "code",
      "source": [
        "msg_df = ham_msg_df.append(spam_msg_df).reset_index(drop=True)\n",
        "plt.figure(figsize=(8,6))\n",
        "sns.countplot(msg_df.v1)\n",
        "plt.title('Distribution of ham and spam email messages (after downsampling)')\n",
        "plt.xlabel('Message types')"
      ],
      "metadata": {
        "colab": {
          "base_uri": "https://localhost:8080/",
          "height": 476
        },
        "id": "U5V1Ia2HJtP4",
        "outputId": "4c99e65f-c5b7-4a5d-8e4e-12e18bb3ea95"
      },
      "execution_count": null,
      "outputs": [
        {
          "output_type": "stream",
          "name": "stderr",
          "text": [
            "/usr/local/lib/python3.7/dist-packages/seaborn/_decorators.py:43: FutureWarning: Pass the following variable as a keyword arg: x. From version 0.12, the only valid positional argument will be `data`, and passing other arguments without an explicit keyword will result in an error or misinterpretation.\n",
            "  FutureWarning\n"
          ]
        },
        {
          "output_type": "execute_result",
          "data": {
            "text/plain": [
              "Text(0.5, 0, 'Message types')"
            ]
          },
          "metadata": {},
          "execution_count": 12
        },
        {
          "output_type": "display_data",
          "data": {
            "text/plain": [
              "<Figure size 576x432 with 1 Axes>"
            ],
            "image/png": "[encoded data removed]"
          },
          "metadata": {
            "needs_background": "light"
          }
        }
      ]
    },
    {
      "cell_type": "code",
      "source": [
        "msg_df['text_length'] = msg_df['v2'].apply(len)\n",
        "#Calculate average length by label types\n",
        "labels = msg_df.groupby('v1').mean()\n",
        "labels"
      ],
      "metadata": {
        "colab": {
          "base_uri": "https://localhost:8080/",
          "height": 143
        },
        "id": "-AiVNVNDKN1j",
        "outputId": "41e3f4b2-6962-4a16-a5f4-274d2eeb1bb4"
      },
      "execution_count": null,
      "outputs": [
        {
          "output_type": "execute_result",
          "data": {
            "text/plain": [
              "      text_length\n",
              "v1               \n",
              "ham     44.510040\n",
              "spam   106.481928"
            ],
            "text/html": [
              "\n",
              "  <div id=\"df-9817a363-0403-4c7c-8bae-53301c9e46bd\">\n",
              "    <div class=\"colab-df-container\">\n",
              "      <div>\n",
              "<style scoped>\n",
              "    .dataframe tbody tr th:only-of-type {\n",
              "        vertical-align: middle;\n",
              "    }\n",
              "\n",
              "    .dataframe tbody tr th {\n",
              "        vertical-align: top;\n",
              "    }\n",
              "\n",
              "    .dataframe thead th {\n",
              "        text-align: right;\n",
              "    }\n",
              "</style>\n",
              "<table border=\"1\" class=\"dataframe\">\n",
              "  <thead>\n",
              "    <tr style=\"text-align: right;\">\n",
              "      <th></th>\n",
              "      <th>text_length</th>\n",
              "    </tr>\n",
              "    <tr>\n",
              "      <th>v1</th>\n",
              "      <th></th>\n",
              "    </tr>\n",
              "  </thead>\n",
              "  <tbody>\n",
              "    <tr>\n",
              "      <th>ham</th>\n",
              "      <td>44.510040</td>\n",
              "    </tr>\n",
              "    <tr>\n",
              "      <th>spam</th>\n",
              "      <td>106.481928</td>\n",
              "    </tr>\n",
              "  </tbody>\n",
              "</table>\n",
              "</div>\n",
              "      <button class=\"colab-df-convert\" onclick=\"convertToInteractive('df-9817a363-0403-4c7c-8bae-53301c9e46bd')\"\n",
              "              title=\"Convert this dataframe to an interactive table.\"\n",
              "              style=\"display:none;\">\n",
              "        \n",
              "  <svg xmlns=\"http://www.w3.org/2000/svg\" height=\"24px\"viewBox=\"0 0 24 24\"\n",
              "       width=\"24px\">\n",
              "    <path d=\"M0 0h24v24H0V0z\" fill=\"none\"/>\n",
              "    <path d=\"M18.56 5.44l.94 2.06.94-2.06 2.06-.94-2.06-.94-.94-2.06-.94 2.06-2.06.94zm-11 1L8.5 8.5l.94-2.06 2.06-.94-2.06-.94L8.5 2.5l-.94 2.06-2.06.94zm10 10l.94 2.06.94-2.06 2.06-.94-2.06-.94-.94-2.06-.94 2.06-2.06.94z\"/><path d=\"M17.41 7.96l-1.37-1.37c-.4-.4-.92-.59-1.43-.59-.52 0-1.04.2-1.43.59L10.3 9.45l-7.72 7.72c-.78.78-.78 2.05 0 2.83L4 21.41c.39.39.9.59 1.41.59.51 0 1.02-.2 1.41-.59l7.78-7.78 2.81-2.81c.8-.78.8-2.07 0-2.86zM5.41 20L4 18.59l7.72-7.72 1.47 1.35L5.41 20z\"/>\n",
              "  </svg>\n",
              "      </button>\n",
              "      \n",
              "  <style>\n",
              "    .colab-df-container {\n",
              "      display:flex;\n",
              "      flex-wrap:wrap;\n",
              "      gap: 12px;\n",
              "    }\n",
              "\n",
              "    .colab-df-convert {\n",
              "      background-color: #E8F0FE;\n",
              "      border: none;\n",
              "      border-radius: 50%;\n",
              "      cursor: pointer;\n",
              "      display: none;\n",
              "      fill: #1967D2;\n",
              "      height: 32px;\n",
              "      padding: 0 0 0 0;\n",
              "      width: 32px;\n",
              "    }\n",
              "\n",
              "    .colab-df-convert:hover {\n",
              "      background-color: #E2EBFA;\n",
              "      box-shadow: 0px 1px 2px rgba(60, 64, 67, 0.3), 0px 1px 3px 1px rgba(60, 64, 67, 0.15);\n",
              "      fill: #174EA6;\n",
              "    }\n",
              "\n",
              "    [theme=dark] .colab-df-convert {\n",
              "      background-color: #3B4455;\n",
              "      fill: #D2E3FC;\n",
              "    }\n",
              "\n",
              "    [theme=dark] .colab-df-convert:hover {\n",
              "      background-color: #434B5C;\n",
              "      box-shadow: 0px 1px 3px 1px rgba(0, 0, 0, 0.15);\n",
              "      filter: drop-shadow(0px 1px 2px rgba(0, 0, 0, 0.3));\n",
              "      fill: #FFFFFF;\n",
              "    }\n",
              "  </style>\n",
              "\n",
              "      <script>\n",
              "        const buttonEl =\n",
              "          document.querySelector('#df-9817a363-0403-4c7c-8bae-53301c9e46bd button.colab-df-convert');\n",
              "        buttonEl.style.display =\n",
              "          google.colab.kernel.accessAllowed ? 'block' : 'none';\n",
              "\n",
              "        async function convertToInteractive(key) {\n",
              "          const element = document.querySelector('#df-9817a363-0403-4c7c-8bae-53301c9e46bd');\n",
              "          const dataTable =\n",
              "            await google.colab.kernel.invokeFunction('convertToInteractive',\n",
              "                                                     [key], {});\n",
              "          if (!dataTable) return;\n",
              "\n",
              "          const docLinkHtml = 'Like what you see? Visit the ' +\n",
              "            '<a target=\"_blank\" href=https://colab.research.google.com/notebooks/data_table.ipynb>data table notebook</a>'\n",
              "            + ' to learn more about interactive tables.';\n",
              "          element.innerHTML = '';\n",
              "          dataTable['output_type'] = 'display_data';\n",
              "          await google.colab.output.renderOutput(dataTable, element);\n",
              "          const docLink = document.createElement('div');\n",
              "          docLink.innerHTML = docLinkHtml;\n",
              "          element.appendChild(docLink);\n",
              "        }\n",
              "      </script>\n",
              "    </div>\n",
              "  </div>\n",
              "  "
            ]
          },
          "metadata": {},
          "execution_count": 13
        }
      ]
    },
    {
      "cell_type": "code",
      "source": [
        "msg_df['msg_type']= msg_df['v1'].map({'ham': 0, 'spam': 1})\n",
        "msg_label = msg_df['msg_type'].values\n",
        "# Split data into train and test\n",
        "train_msg, test_msg, train_labels, test_labels = train_test_split(msg_df['v2'], msg_label, test_size=0.2, random_state=434)\n",
        "print(len(train_msg))\n",
        "print(len(test_msg))"
      ],
      "metadata": {
        "colab": {
          "base_uri": "https://localhost:8080/"
        },
        "id": "ifaYorrwG8V5",
        "outputId": "ac11d1a2-7b2a-4787-8d7b-3e5a2c6e66b1"
      },
      "execution_count": null,
      "outputs": [
        {
          "output_type": "stream",
          "name": "stdout",
          "text": [
            "1195\n",
            "299\n"
          ]
        }
      ]
    },
    {
      "cell_type": "code",
      "source": [
        "max_len = 50 \n",
        "trunc_type = \"post\" \n",
        "padding_type = \"post\" \n",
        "oov_tok = \"<OOV>\" \n",
        "vocab_size = None"
      ],
      "metadata": {
        "id": "4yxS6X2ROnxJ"
      },
      "execution_count": null,
      "outputs": []
    },
    {
      "cell_type": "code",
      "source": [
        "tokenizer = Tokenizer(num_words =None , char_level=False, oov_token = oov_tok)\n",
        "tokenizer.fit_on_texts(train_msg)\n",
        "word_index = tokenizer.word_index\n",
        "print(word_index)\n",
        "tot_words = len(word_index)\n",
        "print('There are %s unique tokens in training data. ' % tot_words)"
      ],
      "metadata": {
        "colab": {
          "base_uri": "https://localhost:8080/"
        },
        "id": "nedBPa5Zd5fL",
        "outputId": "dabfe7d4-6914-42a5-8cf1-486fb9c7046e"
      },
      "execution_count": null,
      "outputs": [
        {
          "output_type": "stream",
          "name": "stdout",
          "text": [
            "{'<OOV>': 1, 'call': 2, 'u': 3, 'free': 4, '2': 5, 'ur': 6, 'txt': 7, '4': 8, 'text': 9, 'get': 10, 'mobile': 11, 'stop': 12, 'claim': 13, 'reply': 14, 'send': 15, 'im': 16, 'prize': 17, 'new': 18, 'go': 19, 'dont': 20, 'please': 21, 'nokia': 22, 'win': 23, 'cash': 24, 'phone': 25, 'know': 26, 'want': 27, 'urgent': 28, 'service': 29, 'week': 30, 'contact': 31, 'good': 32, 'tone': 33, 'per': 34, 'customer': 35, '16': 36, 'day': 37, 'guaranteed': 38, 'time': 39, 'love': 40, 'ok': 41, 'ltgt': 42, '18': 43, 'hi': 44, 'draw': 45, 'like': 46, 'number': 47, 'got': 48, 'r': 49, 'chat': 50, 'line': 51, 'awarded': 52, 'every': 53, 'see': 54, '1': 55, 'back': 56, 'dear': 57, 'å1000': 58, 'msg': 59, 'come': 60, 'receive': 61, 'camera': 62, 'message': 63, 'holiday': 64, 'take': 65, 'mins': 66, 'chance': 67, '3': 68, 'one': 69, 'c': 70, 'latest': 71, 'tell': 72, 'shows': 73, 'live': 74, '150ppm': 75, 'po': 76, 'box': 77, 'great': 78, 'need': 79, 'yes': 80, 'å2000': 81, 'award': 82, 'find': 83, '1st': 84, 'landline': 85, 'today': 86, 'n': 87, 'network': 88, 'apply': 89, 'å150': 90, 'ì': 91, 'ill': 92, 'video': 93, 'still': 94, 'home': 95, 'going': 96, 'tones': 97, '150p': 98, 'code': 99, 'selected': 100, 'pls': 101, 'tcs': 102, 'thanks': 103, 'make': 104, 'last': 105, 'help': 106, 'orange': 107, 'cant': 108, 'tomorrow': 109, 'weekly': 110, 'cost': 111, '500': 112, 'ringtone': 113, 'sms': 114, 'å100': 115, 'todays': 116, 'next': 117, 'entry': 118, 'rate': 119, '8007': 120, 'hey': 121, 'valid': 122, 'music': 123, 'collect': 124, 'mob': 125, 'sorry': 126, 'collection': 127, 'lor': 128, 'name': 129, 'meet': 130, 'trying': 131, 'night': 132, 'play': 133, 'babe': 134, 'enjoy': 135, 'think': 136, 'already': 137, 'well': 138, 'end': 139, 'vouchers': 140, 'price': 141, 'oh': 142, 'offer': 143, 'hope': 144, 'way': 145, 'tscs': 146, 'word': 147, 'account': 148, '86688': 149, 'club': 150, 'å500': 151, 'delivery': 152, 'right': 153, 'waiting': 154, 'join': 155, 'sae': 156, 'hot': 157, 'wk': 158, 'min': 159, 'update': 160, 'would': 161, 'sexy': 162, 'texts': 163, 'bonus': 164, 'uk': 165, 'land': 166, 'gift': 167, 'voucher': 168, 'poly': 169, 'await': 170, 'å250': 171, 'also': 172, 'tc': 173, 'best': 174, 'operator': 175, 'å5000': 176, 'real': 177, 'services': 178, 'private': 179, 'e': 180, 'games': 181, '12hrs': 182, 'give': 183, 'v': 184, '750': 185, 'lol': 186, 'later': 187, 'attempt': 188, 'someone': 189, 'pics': 190, '2nd': 191, 'dating': 192, 'miss': 193, 'double': 194, 'mobileupd8': 195, 'looking': 196, '100': 197, '08000930705': 198, 'b': 199, 'order': 200, 'sent': 201, 'worth': 202, 'cs': 203, 'friend': 204, 'content': 205, 'keep': 206, 'top': 207, 'xmas': 208, 'easy': 209, 'å350': 210, 'unsubscribe': 211, 'ltd': 212, 'tried': 213, 'work': 214, 'x': 215, 'speak': 216, 'opt': 217, 'xxx': 218, 'really': 219, 'colour': 220, 'special': 221, 'quiz': 222, '5': 223, 'camcorder': 224, 'charged': 225, 'da': 226, 'statement': 227, 'place': 228, 'congratulations': 229, 'wkly': 230, '87066': 231, 'half': 232, 'rental': 233, 'us': 234, 'tonight': 235, 'talk': 236, 'fun': 237, 'pounds': 238, '08000839402': 239, 'phones': 240, 'many': 241, 'even': 242, 'hello': 243, '150pmsg': 244, 'unredeemed': 245, 'points': 246, 'identifier': 247, 'expires': 248, 'final': 249, 'say': 250, 'secret': 251, 'thinks': 252, 'ready': 253, '10p': 254, 'winner': 255, 'could': 256, 'mobiles': 257, 'pick': 258, 'ive': 259, 'auction': 260, 'may': 261, 'mates': 262, 'class': 263, 'reach': 264, 'buy': 265, '0800': 266, 'national': 267, 'days': 268, 'didnt': 269, 'guess': 270, '2003': 271, '800': 272, 'offers': 273, 'town': 274, 'eg': 275, 'wap': 276, 'charge': 277, 'admirer': 278, 'weeks': 279, 'yeah': 280, 'wanna': 281, 'youre': 282, 'thats': 283, 'something': 284, 'feel': 285, 'direct': 286, 'freemsg': 287, 'thought': 288, 'valued': 289, 'important': 290, 'txts': 291, '150': 292, 'messages': 293, 'area': 294, 'care': 295, 'game': 296, 'congrats': 297, 'caller': 298, 'rates': 299, 'minutes': 300, 'credit': 301, 'savamob': 302, 'pay': 303, 'info': 304, 'numbers': 305, 'ya': 306, 'anytime': 307, 'wont': 308, 'reward': 309, 'cool': 310, 'use': 311, 'around': 312, 'id': 313, 'soon': 314, 'much': 315, 'pobox': 316, 'said': 317, 'everything': 318, 'fancy': 319, 'ntt': 320, 'shopping': 321, 'player': 322, 'currently': 323, 'let': 324, 'sex': 325, '12': 326, 'wat': 327, 'year': 328, 'either': 329, '10pmin': 330, 'guys': 331, 'pic': 332, 'late': 333, 'complimentary': 334, 'charity': 335, 'yr': 336, 'look': 337, 'trip': 338, 'matches': 339, 'comp': 340, 'ipod': 341, 'std': 342, 'discount': 343, 'ask': 344, 'tv': 345, 'ufind': 346, 'rreveal': 347, 'specialcall': 348, 'leave': 349, 'ending': 350, 'start': 351, 'inc': 352, 'digital': 353, 'first': 354, 'uks': 355, 'dogging': 356, 'ring': 357, 'news': 358, 'ldn': 359, 'sure': 360, 'meeting': 361, 'never': 362, 'within': 363, 'terms': 364, 'show': 365, 'done': 366, 'always': 367, 'england': 368, 'eve': 369, '87077': 370, 'shop': 371, 'food': 372, 'wan': 373, 'motorola': 374, 'calls': 375, 'saturday': 376, 'friends': 377, 'polys': 378, 'choose': 379, 'morning': 380, 'representative': 381, 'match': 382, 'msgs': 383, 'wait': 384, 'pretty': 385, 'frnd': 386, 'wwwgetzedcouk': 387, 'check': 388, 'jus': 389, 'å800': 390, 'cd': 391, 'btnationalrate': 392, 'welcome': 393, 'maybe': 394, 'information': 395, 'alone': 396, 'cum': 397, 'k': 398, 'must': 399, 'little': 400, 'tmr': 401, 'specially': 402, 'g': 403, 'enter': 404, 'user': 405, 'lucky': 406, 'everyone': 407, 'anything': 408, 'date': 409, 'age': 410, 'run': 411, 'pc': 412, 'å200': 413, 'store': 414, 'nothing': 415, 'hmv': 416, 'del': 417, '08712460324': 418, 'optout': 419, 'gay': 420, 'life': 421, 'put': 422, 'custcare': 423, 'flag': 424, 'den': 425, 'bluetooth': 426, 'stuff': 427, 'sleep': 428, 'search': 429, 'baby': 430, 'happy': 431, 'asked': 432, 'sony': 433, 'sunshine': 434, 'gr8': 435, 'getting': 436, 'summer': 437, 'sir': 438, 'freephone': 439, 'big': 440, 'rite': 441, 'forwarded': 442, 'reference': 443, 'arrive': 444, 'bid': 445, 'visit': 446, '85023': 447, 'pobox84': 448, 'å300': 449, '2004': 450, 'old': 451, 'cos': 452, 'f': 453, 'tncs': 454, 'minute': 455, 'weekend': 456, 'away': 457, 'vodafone': 458, 'months': 459, '08712300220': 460, 'standard': 461, 'credits': 462, 'extra': 463, 'able': 464, 'awesome': 465, 'click': 466, 'flights': 467, 'part': 468, 'money': 469, 'change': 470, 'set': 471, '10': 472, 'luck': 473, '3030': 474, 'princess': 475, 'thing': 476, 'no1': 477, 'txting': 478, 'uve': 479, 'log': 480, 'onto': 481, 'fantastic': 482, 'awaiting': 483, 'access': 484, 'birthday': 485, 'xx': 486, 'tot': 487, 'vary': 488, 'years': 489, 'spree': 490, 'nice': 491, 'stay': 492, 'address': 493, 'post': 494, 'answer': 495, 'cashbalance': 496, 'maximize': 497, 'cashin': 498, 'hgsuite3422lands': 499, 'people': 500, 'sipix': 501, 'girls': 502, 'wid': 503, 'costa': 504, 'sol': 505, 'sk38xh': 506, 'leh': 507, 'calling': 508, 'book': 509, 'man': 510, 'havent': 511, 'yet': 512, 'kiss': 513, 'ans': 514, 'zed': 515, '150pm': 516, 'job': 517, 'another': 518, 'busy': 519, 'yo': 520, 'horny': 521, '25p': 522, 'link': 523, 'things': 524, 'working': 525, 'holder': 526, '6': 527, 'weekends': 528, '20p': 529, '1327': 530, 'croydon': 531, 'cr9': 532, '5wb': 533, '0870': 534, 'arcade': 535, 'try': 536, 'early': 537, '11mths': 538, 'ringtones': 539, '1000s': 540, 'partner': 541, 'rcvd': 542, 'fone': 543, 'local': 544, 'details': 545, '3510i': 546, 'two': 547, 'dvd': 548, 'singles': 549, 'finish': 550, 'brother': 551, '4u': 552, 'rply': 553, 'sport': 554, 'hear': 555, 'happen': 556, 'chennai': 557, 'crazy': 558, 'ever': 559, 'enough': 560, 'voda': 561, 'quoting': 562, 'goto': 563, 'hours': 564, 'computer': 565, 'plus': 566, 'guy': 567, 'tickets': 568, 'coming': 569, 'sub': 570, '36504': 571, 'ltdecimalgt': 572, 'invited': 573, 'xchat': 574, 'following': 575, 'theres': 576, 'forget': 577, 'room': 578, 'choice': 579, 'juz': 580, 'bt': 581, 'true': 582, 'loan': 583, 'starting': 584, 'age16': 585, '250': 586, 'pound': 587, 'questions': 588, 'contacted': 589, 'entered': 590, 'cc': 591, '28': 592, 'close': 593, 'loyalty': 594, 'till': 595, 'break': 596, 'conditions': 597, 'wif': 598, 'fuck': 599, 'luv': 600, '09050090044': 601, 'toclaim': 602, 'pobox334': 603, 'stockport': 604, 'costå150pm': 605, 'max10mins': 606, 'outside': 607, '1x150pwk': 608, 'watching': 609, 'team': 610, 'linerental': 611, 'question': 612, 'gonna': 613, 'announcement': 614, 'wish': 615, 'pass': 616, 'etc': 617, 'starts': 618, 'cheap': 619, 'dun': 620, 'believe': 621, 'shit': 622, 'bit': 623, 'test': 624, 'means': 625, '2day': 626, 'correct': 627, 'car': 628, 'mind': 629, 'revealed': 630, 'yup': 631, 'online': 632, 'hair': 633, '80062': 634, 'fantasies': 635, '08707509020': 636, 'mean': 637, 'replying': 638, 'heart': 639, 'month': 640, 'ip4': 641, '5we': 642, 'fantasy': 643, 'times': 644, 'better': 645, 'house': 646, 'feeling': 647, 'yesterday': 648, 'song': 649, 'asap': 650, 'û': 651, 'god': 652, 'needs': 653, '40gb': 654, 'entitled': 655, 'å3': 656, 'valentines': 657, '83600': 658, 'wwwringtonescouk': 659, 'original': 660, '3gbp': 661, 'took': 662, 'action': 663, '300': 664, 'smiling': 665, 'm263uz': 666, 'adult': 667, 'anyway': 668, 'inviting': 669, '62468': 670, 'eerie': 671, 'pobox36504w45wq': 672, 'selection': 673, 'de': 674, 'cds': 675, 'wwwldewcom1win150ppmx3age16': 676, 'goes': 677, 'upto': 678, 'via': 679, 'p': 680, 'hav': 681, 'paying': 682, 'king': 683, 'å400': 684, 'picked': 685, '2optout': 686, 'txtauction': 687, 'page': 688, '11': 689, 'buying': 690, 'dinner': 691, 'wow': 692, 'tour': 693, 'vip': 694, 'locations': 695, 'unsub': 696, 'family': 697, 'å10': 698, 'dude': 699, 'w45wq': 700, 'norm150ptone': 701, 'rs': 702, '150pmsgrcvdhgsuite3422landsroww1j6hl': 703, 'told': 704, 'review': 705, 'å1500': 706, 'surprise': 707, '85': 708, 'wen': 709, 'pete': 710, '87239': 711, 'liao': 712, 'flirt': 713, 'recd': 714, 'happened': 715, 'o2': 716, 'alert': 717, 'lets': 718, '87131': 719, 'sale': 720, 'refused': 721, 'unlimited': 722, 'brand': 723, '09061221066': 724, 'fromm': 725, '08718720201': 726, 'pub': 727, 'actually': 728, 'coz': 729, 'facebook': 730, 'met': 731, 'okay': 732, 'kinda': 733, 'thanx': 734, 'heard': 735, 'eh': 736, 'came': 737, 'official': 738, 'santa': 739, 'huh': 740, 'ìï': 741, 'hold': 742, 'hows': 743, 'profit': 744, 'using': 745, 'support': 746, 'thank': 747, 'gone': 748, 'lunch': 749, 'grins': 750, '08715705022': 751, 'company': 752, 'bahamas': 753, 'cheaper': 754, 'shall': 755, 'dis': 756, 'reveal': 757, 'cust': 758, 'went': 759, 'tariffs': 760, '86021': 761, 'porn': 762, '50p': 763, 'mths': 764, 'movie': 765, 'å3wk': 766, 'subscription': 767, 'wake': 768, 'fri': 769, '08712405020': 770, 'dunno': 771, 'remember': 772, 'å450': 773, 'polyphonic': 774, '150ptone': 775, 'hl': 776, 'eat': 777, 'sim': 778, 'says': 779, 'immediately': 780, 'park': 781, 'th': 782, 'sleeping': 783, 'hard': 784, 'available': 785, 'haha': 786, 'clock': 787, 'logo': 788, '3g': 789, 'videophones': 790, 'videochat': 791, 'java': 792, 'dload': 793, 'noline': 794, 'rentl': 795, 'bx420': 796, 'left': 797, 'girl': 798, 'netcollex': 799, 'app': 800, 'bed': 801, 'called': 802, 'amp': 803, 'ppm': 804, 'ah': 805, 'spook': 806, 'evening': 807, 'ntwk': 808, '08001950382': 809, '82277': 810, 'sky': 811, 'tenerife': 812, 'course': 813, 'å900': 814, '8552': 815, '020603': 816, 'boston': 817, '7': 818, 'co': 819, 'download': 820, '80082': 821, 'darling': 822, '0808': 823, '145': 824, '4742': 825, '9am11pm': 826, 'pod': 827, 'regular': 828, 'deliveredtomorrow': 829, 'quite': 830, 'friendship': 831, 'reading': 832, 'seeing': 833, 'gud': 834, '450': 835, 'bucks': 836, 'member': 837, 'subs': 838, 'exciting': 839, 'wanted': 840, 'lect': 841, 'hour': 842, '84025': 843, 'voicemail': 844, 'title': 845, 'titles': 846, 'themob': 847, 'babes': 848, 'monday': 849, 'voice': 850, 'lots': 851, 'youve': 852, 'taking': 853, 'june': 854, 'since': 855, 'sept': 856, 'staying': 857, 'dad': 858, 'super': 859, 'walk': 860, 'inclusive': 861, 'wwwcomuknet': 862, 'login': 863, 'b4': 864, '89545': 865, 'å1': 866, 'www4tcbiz': 867, '08718726270150gbpmtmsg18': 868, 'weather': 869, 'interested': 870, 'else': 871, '81303': 872, 'largest': 873, 'ec2a': 874, 'wed': 875, 'beer': 876, 'receiving': 877, 'shortly': 878, 'case': 879, 'transaction': 880, 'smoke': 881, 'pleased': 882, 'advise': 883, 'recent': 884, 'suite': 885, 'notice': 886, 'driving': 887, 'germany': 888, 'pence': 889, 'dnt': 890, 'world': 891, 'cup': 892, 'enjoyed': 893, 'provided': 894, 'sam': 895, 'drop': 896, '10k': 897, 'plan': 898, 'hurry': 899, 'bored': 900, '0845': 901, 'arsenal': 902, '10am7pm': 903, 'completely': 904, 'roww1j6hl': 905, '60pmin': 906, 'cute': 907, 'ends': 908, 'march': 909, 'em': 910, '11414': 911, 'tcrw1': 912, 'password': 913, 'm26': 914, '3uz': 915, 'email': 916, '2nite': 917, 'followed': 918, 'idea': 919, 'angry': 920, '125gift': 921, 'hit': 922, 'u4': 923, 'din': 924, 'office': 925, 'yer': 926, '84199': 927, 'eng': 928, 'box39822': 929, 'w111wx': 930, 'city': 931, 'oz': 932, 'nt': 933, 'ones': 934, '3mins': 935, 'afternoon': 936, 'bugis': 937, 'oso': 938, 'without': 939, '09066612661': 940, 'school': 941, 'smile': 942, '80878': 943, '542': 944, 'cinema': 945, '09061209465': 946, 'suprman': 947, 'matrix3': 948, 'starwars3': 949, 'bx420ip45we': 950, '18only': 951, 'january': 952, 'male': 953, 'downloads': 954, 'long': 955, '150pmin': 956, 'london': 957, 'postcode': 958, 'wasnt': 959, '2stoptxt': 960, '7250i': 961, 'roww1jhl': 962, 'contract': 963, 'remove': 964, 'wc1n3xx': 965, 'sonyericsson': 966, 'ten': 967, 'save': 968, 'ordered': 969, 'ts': 970, 'pocketbabecouk': 971, 'ac': 972, 'lover': 973, 'across': 974, 'sea': 975, 'truly': 976, 'amazing': 977, 'med': 978, 'bout': 979, 'self': 980, 'whats': 981, 'booking': 982, 'moby': 983, 'far': 984, 'google': 985, 'pm': 986, 'å10000': 987, '4mths': 988, 'mobilesdirect': 989, '08000938767': 990, 'or2stoptxt': 991, 'txtin': 992, '4info': 993, 'k52': 994, 'subscribed': 995, 'subscriber': 996, 'receipt': 997, 'whole': 998, 'ave': 999, 'moan': 1000, 'thk': 1001, 'probably': 1002, 'delivered': 1003, '89555': 1004, 'textoperator': 1005, 'noe': 1006, 'purpose': 1007, 'å75000': 1008, 'homeowners': 1009, 'tenants': 1010, 'previously': 1011, '1956669': 1012, 'coffee': 1013, 'future': 1014, '87021': 1015, 'added': 1016, 'india': 1017, 'bill': 1018, 'sat': 1019, 'watch': 1020, 'texting': 1021, 'activate': 1022, 'warm': 1023, 'names': 1024, 'joined': 1025, 'haf': 1026, 'comes': 1027, 'tmobile': 1028, 'hotel': 1029, 'couple': 1030, 'mail': 1031, 'balance': 1032, 'isnt': 1033, 'cancel': 1034, 'lesson': 1035, 'rent': 1036, 'takes': 1037, 'telling': 1038, 'sister': 1039, 'hate': 1040, 'though': 1041, 'sick': 1042, '200': 1043, 'together': 1044, 'dates': 1045, 'energy': 1046, 'omg': 1047, 'knows': 1048, 'running': 1049, 'settings': 1050, 'press': 1051, '0': 1052, 'ibiza': 1053, '434': 1054, 'sk3': 1055, '8wp': 1056, 'alfie': 1057, 'moons': 1058, 'children': 1059, 'm8s': 1060, 'nokias': 1061, '08701417012': 1062, 'st': 1063, 'dream': 1064, 'wet': 1065, 'costs': 1066, '87121': 1067, 'mid': 1068, 'boy': 1069, 'fr': 1070, 'made': 1071, '82242': 1072, 'kick': 1073, 'handset': 1074, 'finally': 1075, 'knw': 1076, 'card': 1077, 'ull': 1078, 'bring': 1079, 'cross': 1080, 'q': 1081, 'country': 1082, 'ansr': 1083, 'sptyrone': 1084, 'hungry': 1085, 'cbe': 1086, 'liverpool': 1087, 'photo': 1088, 'registered': 1089, 'freefone': 1090, 'euro2004': 1091, 'daily': 1092, 'sweet': 1093, 'rude': 1094, '07xxxxxxxxx': 1095, '09066362231': 1096, 'box97n7qp': 1097, 'changed': 1098, 'purchase': 1099, '18yrs': 1100, 'pack': 1101, 'mp3': 1102, 'paris': 1103, 'complete': 1104, 'supposed': 1105, 'december': 1106, 'lifetime': 1107, 'custcare08718720201': 1108, 'funk': 1109, 'tones2u': 1110, 'married': 1111, 'discreet': 1112, '80182': 1113, '08452810073': 1114, 'cancer': 1115, 'moms': 1116, 'making': 1117, 'purity': 1118, 'messageits': 1119, 'evng': 1120, '80488': 1121, '09065989182': 1122, 'convey': 1123, 'regards': 1124, 'unsold': 1125, '786': 1126, 'saw': 1127, 'campus': 1128, 'yep': 1129, 'eastenders': 1130, 'flower': 1131, 'dot': 1132, 'compare': 1133, 'violet': 1134, 'tulip': 1135, 'lily': 1136, 'wkent150p16': 1137, '08719181513': 1138, 'pa': 1139, 'dracula': 1140, 'ghost': 1141, 'addamsfa': 1142, 'munsters': 1143, 'exorcist': 1144, 'twilight': 1145, 'newest': 1146, 'fit': 1147, '82468': 1148, 'salary': 1149, 'chart': 1150, 'natalja': 1151, '25f': 1152, 'yes440': 1153, 'no440': 1154, 'wwwsmsacunat27081980': 1155, 'english': 1156, 'include': 1157, 'biggest': 1158, 'august': 1159, 'jst': 1160, 'bin': 1161, 'accidentally': 1162, 'deleted': 1163, 'received': 1164, 'unique': 1165, 'ignore': 1166, 'touch': 1167, 'burger': 1168, '3qxj9': 1169, '08702840625comuk': 1170, '220cm2': 1171, '9ae': 1172, 'kids': 1173, '86888': 1174, 'subscribe6gbpmnth': 1175, '3hrs': 1176, 'stoptxtstop': 1177, '09058094599': 1178, 'randomly': 1179, 'loyal': 1180, 'customers': 1181, '09066380611': 1182, 'kind': 1183, '83383': 1184, 'web': 1185, 'gave': 1186, 'bad': 1187, 'boys': 1188, '2007': 1189, 'jamster': 1190, '16only': 1191, '69696': 1192, '3lp': 1193, 'å150msg': 1194, 'dare': 1195, 'friday': 1196, 'wiskey': 1197, 'brandy': 1198, 'rum': 1199, 'gin': 1200, 'vodka': 1201, 'scotch': 1202, 'shampain': 1203, 'wine': 1204, 'kudiyarasu': 1205, 'dhina': 1206, 'vaazhthukkal': 1207, '08717898035': 1208, 'round': 1209, 'personal': 1210, 'careful': 1211, '41685': 1212, '071104': 1213, 'buff': 1214, '09061790121': 1215, 'records': 1216, 'yrs': 1217, 'willing': 1218, '0871277810810': 1219, 'vl': 1220, 'day2find': 1221, 'mu': 1222, 'shower': 1223, 'idiot': 1224, 'faster': 1225, 'fixed': 1226, '0844': 1227, '861': 1228, 'prepayment': 1229, 'lar': 1230, 'ago': 1231, 'college': 1232, 'mt': 1233, 'system': 1234, 'administrator': 1235, '61610': 1236, 'help08712400602450p': 1237, 'tones2youcouk': 1238, 'wants': 1239, 'website': 1240, 'pussy': 1241, 'hgsuite3422landsroww1j6hl': 1242, '09061743386': 1243, '88039': 1244, 'skilgme': 1245, 'follow': 1246, 'instructions': 1247, 'british': 1248, 'hotels': 1249, 'sw73ss': 1250, 'genuine': 1251, 'infowww100percentrealcom': 1252, 'thurs': 1253, 'lemme': 1254, '2005': 1255, '40533': 1256, '311004': 1257, 'nat': 1258, 'share': 1259, 'upgrade': 1260, 'lei': 1261, 'brought': 1262, 'location': 1263, 'asks': 1264, 'pin': 1265, 'anybody': 1266, 'sign': 1267, 'whenever': 1268, 'gt': 1269, 'men': 1270, 'putting': 1271, '9': 1272, 'childish': 1273, 'pictures': 1274, 'ass': 1275, 'open': 1276, 'obviously': 1277, 'arent': 1278, '80608': 1279, 'wwwmovietriviatv': 1280, '08712405022': 1281, 'response': 1282, 'gee': 1283, 'sad': 1284, 'tonights': 1285, 'excuse': 1286, 'picking': 1287, 'offerthe': 1288, 'nokia6650': 1289, '81151': 1290, '4tctxt': 1291, '150pmtmsg': 1292, 'chikku': 1293, 'cell': 1294, 'seen': 1295, 'å1450': 1296, 'tcsstop': 1297, 'call2optoutlf56': 1298, 'boytoy': 1299, 'crave': 1300, 'teasing': 1301, 'in2': 1302, 'll': 1303, '08718727870': 1304, 'yogasana': 1305, 'rush': 1306, 'okie': 1307, 'islands': 1308, 'fair': 1309, 'knees': 1310, 'head': 1311, 'wwwtxt2shopcom': 1312, 'sort': 1313, 'eta': 1314, 'premier': 1315, 'orchard': 1316, 'phoned': 1317, 'callfreefone': 1318, '08081560665': 1319, 'cruise': 1320, 'ofå2000': 1321, '07786200117': 1322, '08709222922': 1323, '15pmin': 1324, '78pmin': 1325, 'peak': 1326, 'fucking': 1327, 'six': 1328, 'yar': 1329, 'knew': 1330, 'wwwtcbiz': 1331, 'polo': 1332, '373': 1333, 'w1j': 1334, '6hl': 1335, '09065174042': 1336, '07821230901': 1337, 'supply': 1338, 'wwwldewcomsubs161win150ppmx3': 1339, 'textbuddy': 1340, 'gaytextbuddycom': 1341, '89693': 1342, 'sense': 1343, 'callback': 1344, '24hrs': 1345, '1000': 1346, 'premium': 1347, 'cameravideo': 1348, '08002986030': 1349, '88600': 1350, 'sptv': 1351, 'slave': 1352, 'incredible': 1353, 'learn': 1354, 'blow': 1355, 'o2fwd': 1356, '18ptxt': 1357, '09058091854': 1358, 'box385': 1359, 'm6': 1360, '6wu': 1361, 'warner': 1362, 'village': 1363, 'film': 1364, 'decided': 1365, 'knackered': 1366, 'dads': 1367, 'hmmm': 1368, 'story': 1369, 'members': 1370, 'symbol': 1371, 'wwwidewcom': 1372, 'skillgame': 1373, '1winaweek': 1374, '150ppermesssubscription': 1375, '09050001808': 1376, 'm95': 1377, 'valid12hrs': 1378, 'comin': 1379, 'hols': 1380, 'stamped': 1381, 'envelope': 1382, 'drinks': 1383, '113': 1384, 'bray': 1385, 'wicklow': 1386, 'eire': 1387, 'karaoke': 1388, 'whatever': 1389, 'airport': 1390, '84128': 1391, 'wwwtextcompcom': 1392, 'parents': 1393, 'wan2': 1394, 'meetgreet': 1395, 'westlife': 1396, 'm8': 1397, '1unbreakable': 1398, '2untamed': 1399, '3unkempt': 1400, '83049': 1401, 'high': 1402, 'sp': 1403, 'success': 1404, 'abta': 1405, 'spanish': 1406, 'pissed': 1407, 'ref': 1408, 'fine': 1409, 'works': 1410, 'mine': 1411, 'request': 1412, '87575': 1413, 'gent': 1414, '09064012160': 1415, '300p': 1416, 'helpline': 1417, '08706091795': 1418, 'cake': 1419, 'mila': 1420, 'age23': 1421, 'blonde': 1422, 'mtalk': 1423, '6986618': 1424, '30pptxt': 1425, '5free': 1426, 'increments': 1427, 'help08718728876': 1428, 'chosen': 1429, '09066364311': 1430, '08718738001': 1431, 'cashto': 1432, '08000407165': 1433, 'getstop': 1434, '88222': 1435, 'php': 1436, 'afraid': 1437, 'wondering': 1438, '3650': 1439, '09066382422': 1440, '300603': 1441, 'bcm4284': 1442, 'laid': 1443, 'btooth': 1444, 'sing': 1445, 'second': 1446, 'sounds': 1447, 'chatting': 1448, 'simply': 1449, 'mix': 1450, 'verify': 1451, 'vegas': 1452, 'property': 1453, 'sue': 1454, '20': 1455, 'bedroom': 1456, 'straight': 1457, 'housemaid': 1458, 'murderer': 1459, 'murdered': 1460, 'public': 1461, 'govtinstituitions': 1462, 'closedincluding': 1463, 'officeunderstand': 1464, 'bday': 1465, 'subpoly': 1466, 'ard': 1467, 'youll': 1468, '8th': 1469, '09058094565': 1470, 'bloomberg': 1471, 'center': 1472, '447797706009': 1473, 'bloombergcom': 1474, 'now': 1475, '12mths': 1476, 'strong': 1477, 'nok': 1478, 'mistake': 1479, 'due': 1480, '2p': 1481, 'darren': 1482, 'mayb': 1483, 'worries': 1484, 'blue': 1485, 'donate': 1486, 'software': 1487, 'pending': 1488, 'www07781482378com': 1489, 'box95qu': 1490, 'dick': 1491, 'package': 1492, 'add': 1493, 'name1': 1494, 'name2': 1495, 'mobno': 1496, 'adam': 1497, '07123456789': 1498, 'yahoo': 1499, 'txtno': 1500, 'ads': 1501, 'carlos': 1502, '08712101358': 1503, 'reminder': 1504, 'nvm': 1505, 'wwwldewcom': 1506, '0825': 1507, 'series': 1508, 'tonite': 1509, 'sending': 1510, 'confirm': 1511, 'passionate': 1512, 'sch': 1513, '09063458130': 1514, 'polyph': 1515, '22': 1516, 'process': 1517, '4fil': 1518, 'bus': 1519, 'fell': 1520, 'hun': 1521, 'todayfrom': 1522, 'cuz': 1523, '09066364589': 1524, 'hee': 1525, 'worry': 1526, 'hardcore': 1527, '24': 1528, 'annoying': 1529, 'billed': 1530, 'wallpaper': 1531, 'concert': 1532, 'opportunity': 1533, '4882': 1534, '09064019014': 1535, '3100': 1536, 'g696ga': 1537, 'interflora': 1538, 'midnight': 1539, 'woke': 1540, 'waste': 1541, 'missed': 1542, 'rally': 1543, 'confused': 1544, 'doesnt': 1545, 'might': 1546, '09061221061': 1547, '28days': 1548, 'box177': 1549, 'm221bp': 1550, '2yr': 1551, 'warranty': 1552, 'på399': 1553, 'pizza': 1554, '40': 1555, 'reality': 1556, 'bcoz': 1557, 'nights': 1558, 'free2day': 1559, 'georges': 1560, 'jordantxt': 1561, '89080': 1562, 'saucy': 1563, 'celeb4': 1564, '0870241182716': 1565, '08700621170150p': 1566, 'five': 1567, '08002888812': 1568, 'horo': 1569, 'fa': 1570, 'tkts': 1571, 'community': 1572, 'nos': 1573, 'eurodisinc': 1574, 'trav': 1575, 'acoentry41': 1576, '186å150morefrmmob': 1577, 'shracomorsglsuplt10': 1578, 'ls1': 1579, '3aj': 1580, 'rcv': 1581, 'listening': 1582, '447801259231': 1583, '09058094597': 1584, 'fastest': 1585, 'growing': 1586, 'inside': 1587, 'proof': 1588, 'allow': 1589, '09066350750': 1590, '10000': 1591, 'nobody': 1592, 'thatûs': 1593, 'flirting': 1594, 'whos': 1595, 'cam': 1596, 'msg150p': 1597, '2rcv': 1598, 'hlp': 1599, '08712317606': 1600, 'scream': 1601, 'lost': 1602, 'urgnt': 1603, 'tel': 1604, '021': 1605, 'lions': 1606, 'lionm': 1607, 'mono': 1608, 'lionp': 1609, '2moro': 1610, 'callså1minmoremobsemspobox45po139wa': 1611, 'imagine': 1612, 'bath': 1613, 'cock': 1614, 'water': 1615, 'owns': 1616, 'wit': 1617, 'east': 1618, 'halloween': 1619, '08701417012150p': 1620, 'logopic': 1621, 'jsco': 1622, 'drive': 1623, '88066': 1624, 'call2optout674': 1625, 'football': 1626, 'gamestar': 1627, 'active': 1628, 'å250k': 1629, 'scoring': 1630, 'register': 1631, 'nowsky': 1632, '88088': 1633, 'listen': 1634, 'sis': 1635, 'hell': 1636, 'finished': 1637, 'ish': 1638, 'norm': 1639, 'ugh': 1640, 'glad': 1641, 'walking': 1642, 'acl03530150pm': 1643, 'played': 1644, 'started': 1645, 'potential': 1646, 'bears': 1647, 'upload': 1648, '08718730666': 1649, '5k': 1650, 'travel': 1651, '09064011000': 1652, 'cr01327bt': 1653, 'fixedline': 1654, 'removal': 1655, '08708034412': 1656, '08006344447': 1657, 'fall': 1658, 'kept': 1659, 'results': 1660, 'euro': 1661, '83222': 1662, '5000': 1663, 'cw25wx': 1664, '123': 1665, 'abt': 1666, '01223585334': 1667, '2c': 1668, 'gettin': 1669, 'shagged': 1670, 'pix': 1671, '2end': 1672, 'giving': 1673, 'doggy': 1674, 'style': 1675, 'conform': 1676, 'wonderful': 1677, '21870000hi': 1678, 'mailbox': 1679, 'messaging': 1680, '09056242159': 1681, 'retrieve': 1682, 'sports': 1683, '09061744553': 1684, 'polyh': 1685, 'pobox45w2tg150p': 1686, 'garden': 1687, 'bulbs': 1688, 'seeds': 1689, 'å3350': 1690, 'scotsman': 1691, 'go2': 1692, 'notxtcouk': 1693, 'oredi': 1694, 'sian': 1695, 'explicit': 1696, '30': 1697, 'secs': 1698, '02073162414': 1699, '20pmin': 1700, '50': 1701, 'nyc': 1702, 'frying': 1703, 'pan': 1704, '350': 1705, '6months': 1706, 'call2optoutn9dx': 1707, 'space': 1708, 'invaders': 1709, 'orig': 1710, 'console': 1711, 'o2coukgames': 1712, 'experience': 1713, 'normal': 1714, '69698': 1715, 'wks': 1716, 'sound': 1717, 'lotr': 1718, '88888': 1719, 'w': 1720, 'diet': 1721, 'lookatme': 1722, 'specific': 1723, 'vewy': 1724, 'somebody': 1725, 'claire': 1726, '0776xxxxxxx': 1727, 'yest': 1728, 'mah': 1729, 'textpod': 1730, 'wwwtextpodnet': 1731, 'mrt': 1732, 'aft': 1733, 'frndship': 1734, 'mumtaz': 1735, 'wife': 1736, 'mumtazs': 1737, 'died': 1738, 'blu': 1739, 'season': 1740, 'ha': 1741, 'box334sk38ch': 1742, 'kkim': 1743, 'finewhen': 1744, 'plz': 1745, 'cut': 1746, 'erm': 1747, 'okey': 1748, 'picsfree1': 1749, '83355': 1750, 'ibhltd': 1751, 'ldnw15h': 1752, '150pmtmsgrcvd18': 1753, 'knock': 1754, 'lucy': 1755, 'born': 1756, 'goal': 1757, 'henry': 1758, 'aom': 1759, '08002986906': 1760, 'restrictions': 1761, 'buddys': 1762, 'white': 1763, 'fudge': 1764, 'oreos': 1765, 'stores': 1766, 'tablets': 1767, 'reaction': 1768, 'women': 1769, 'instantly': 1770, '69969': 1771, 'bcmsfwc1n3xx': 1772, 'ree': 1773, 'deal': 1774, 'checkup': 1775, 'aka': 1776, 'pap': 1777, 'smear': 1778, 'diff': 1779, 'x49': 1780, 'colourredtextcolourtxtstar': 1781, 'outbid': 1782, 'simonwatson5120': 1783, 'shinco': 1784, 'plyr': 1785, 'acsmsrewards': 1786, 'notifications': 1787, 'playerwhy': 1788, '07753741225': 1789, '08715203677': 1790, '42478': 1791, '241004': 1792, '0784987': 1793, '08719180219': 1794, '45239': 1795, '060505': 1796, 'random': 1797, 'roomate': 1798, 'graduated': 1799, 'finishes': 1800, 'sculpture': 1801, 'lyricalladie21f': 1802, 'yes910': 1803, 'no910': 1804, 'wwwsmsacuhmmross': 1805, 'transfered': 1806, 'gossip': 1807, 'funky': 1808, 'philosophy': 1809, 'chillaxin': 1810, 'quality': 1811, '09050001295': 1812, 'a21': 1813, 'å125': 1814, 'freeentry': 1815, 'xt': 1816, 'looked': 1817, 'addie': 1818, 'sucks': 1819, '09065171142stopsms08718727870150ppm': 1820, 'hcl': 1821, 'requires': 1822, 'freshers': 1823, 'processexcellent': 1824, 'neededsalary': 1825, 'mssuman': 1826, 'telephonic': 1827, 'interview': 1828, 'indyarockscom': 1829, 'coolmob': 1830, 'frogaxel': 1831, 'akonlonely': 1832, 'black': 1833, 'eyeddont': 1834, '08712103738': 1835, 'cashbincouk': 1836, 'wwwcashbincouk': 1837, 'totes': 1838, '09066660100': 1839, '2309': 1840, 'skint': 1841, 'fancied': 1842, 'bevieswaz': 1843, 'gona': 1844, 'othrs': 1845, 'spoon': 1846, 'watchng': 1847, 'planet': 1848, 'earthsofa': 1849, 'comfey': 1850, 'gd': 1851, '7ish': 1852, 'resend': 1853, '0089my': 1854, 'four': 1855, 'digits': 1856, '09063442151': 1857, 'ure': 1858, 'practical': 1859, 'lessons': 1860, '30th': 1861, 'wwwareyouuniquecouk': 1862, 'tbspersolvo': 1863, 'chasing': 1864, 'forå38': 1865, 'definitely': 1866, 'kath': 1867, 'manchester': 1868, 'permission': 1869, 'abj': 1870, 'serving': 1871, '7634': 1872, '7684': 1873, 'footy': 1874, 'stadium': 1875, 'large': 1876, 'cocacola': 1877, 'exwife': 1878, 'delete': 1879, 'wwwgambtv': 1880, 'europe': 1881, '10th': 1882, '09050000555': 1883, 'ba128nnfwfly150ppm': 1884, 'coccooning': 1885, '6230': 1886, 'pobox11414tcrw1': 1887, 'ithis': 1888, 'created': 1889, 'wwwasjesuscom': 1890, 'read': 1891, 'wrote': 1892, 'opinions': 1893, 'ello': 1894, 'bitching': 1895, 'acted': 1896, 'steak': 1897, 'prebook': 1898, 'trackmarque': 1899, 'vipclub4u': 1900, 'videosound': 1901, 'gold': 1902, 'videosounds2': 1903, 'logosmusicnews': 1904, 'jamstercouk': 1905, '09701213186': 1906, 'wamma': 1907, 'laidwant': 1908, 'doggin': 1909, 'dogs': 1910, 'nownyt': 1911, 'yck': 1912, 'pongaldo': 1913, 'triple': 1914, 'echo': 1915, 'thatd': 1916, 'scenario': 1917, '087147123779am7pm': 1918, 'plans': 1919, 'stone': 1920, 'highest': 1921, 'å54': 1922, 'maximum': 1923, 'å71': 1924, 'bids': 1925, '08702490080': 1926, 'tells': 1927, '09066358152': 1928, 'prompts': 1929, '07808': 1930, 'xxxxxx': 1931, '08719899217': 1932, 'wind': 1933, 'indicate': 1934, '3750': 1935, 'accident': 1936, 'toledo': 1937, 'hill': 1938, '44': 1939, '7732584351': 1940, '8077': 1941, 'neft': 1942, 'credited': 1943, 'beneficiary': 1944, 'lttimegt': 1945, 'xavier': 1946, 'apps': 1947, 'university': 1948, 'southern': 1949, 'california': 1950, '09066368470': 1951, 'vikky': 1952, 'witin': 1953, 'il': 1954, 'sitting': 1955, 'anyone': 1956, 'slower': 1957, 'maniac': 1958, 'tessypls': 1959, 'favor': 1960, 'wishes': 1961, 'nimyapls': 1962, 'shijas': 1963, 'gimme': 1964, 'sac': 1965, 'score': 1966, 'hundredhe': 1967, 'batsman': 1968, 'darlin': 1969, '2006': 1970, 'fifa': 1971, 'held': 1972, 'tshirt': 1973, 'hmmmkbut': 1974, 'field': 1975, 'quickly': 1976, 'dai': 1977, '25': 1978, 'thirtyeight': 1979, 'holla': 1980, 'intention': 1981, 'rather': 1982, 'clean': 1983, 'visitors': 1984, 'embarassed': 1985, 'youd': 1986, 'nope': 1987, 'httpwwwurawinnercom': 1988, 'videos': 1989, 'smsshsexnetun': 1990, 'fgkslpopw': 1991, 'fgkslpo': 1992, 'shag': 1993, 'dointerested': 1994, 'sextextukcom': 1995, 'xxuk': 1996, 'suzy': 1997, '69876': 1998, 'drastic': 1999, 'sell': 2000, '09064018838': 2001, 'cro1327': 2002, 'yesfrom': 2003, '09058094594': 2004, 'aight': 2005, 'videopic': 2006, 'fones': 2007, 'wild': 2008, '150prcvd': 2009, 'stop2stop': 2010, '2814032': 2011, '3xå150pw': 2012, 'eånd': 2013, 'freemsgfav': 2014, 'tonesreply': 2015, 'dartboard': 2016, 'condition': 2017, 'doubles': 2018, 'trebles': 2019, 'honey': 2020, 'secured': 2021, 'unsecured': 2022, '195': 2023, '6669': 2024, '07732584351': 2025, 'rodger': 2026, 'burns': 2027, '08714712394': 2028, 'tscs08714740323': 2029, '1winawk': 2030, 'å150perweeksub': 2031, 'thursday': 2032, '1mcflyall': 2033, 'ab': 2034, 'sara': 2035, 'jorgeshock': 2036, 'smithswitch': 2037, 'dial': 2038, 'bx526': 2039, 'å750': 2040, '087187272008': 2041, 'now1': 2042, 'accommodation': 2043, 'various': 2044, 'global': 2045, 'wwwphb1com': 2046, 'ph08700435505150p': 2047, '09111032124': 2048, 'pobox12n146tf150p': 2049, 'beerage': 2050, 'install': 2051, 'browse': 2052, 'artists': 2053, '08708800282': 2054, '31': 2055, '07973788240': 2056, '08715203649': 2057, 'single': 2058, 'nowsend': 2059, '62220cncl': 2060, 'stopcs': 2061, '08717890890å150': 2062, '09095350301': 2063, 'erotic': 2064, 'ecstacy': 2065, 'move': 2066, 'dehydrated': 2067, 'ttyl': 2068, 'necessary': 2069, '0207': 2070, '153': 2071, '9996': 2072, '14thmarch': 2073, 'availa': 2074, 'bishan': 2075, 'lavender': 2076, 'el': 2077, 'nino': 2078, 'gets': 2079, '83039': 2080, '62735å450': 2081, 'accommodationvouchers': 2082, 'mustprovide': 2083, '15541': 2084, 'monthly': 2085, 'mobsicom': 2086, '391784': 2087, 'smart': 2088, '85222': 2089, 'nowtcs': 2090, 'winnersclub': 2091, '84': 2092, 'gbp150week': 2093, 'pple700': 2094, '900': 2095, 'nightsexcellent': 2096, 'breakfast': 2097, 'hamper': 2098, 'protect': 2099, 'ethreats': 2100, 'sib': 2101, 'sensitive': 2102, 'passwordsatmsms': 2103, 'thru': 2104, 'horniest': 2105, '69888': 2106, 'nytec2a3lpmsg': 2107, 'gender': 2108, 'wither': 2109, 'eg23f': 2110, 'eg23g': 2111, 'rct': 2112, 'thnq': 2113, 'adrian': 2114, 'rgds': 2115, 'vatian': 2116, 'earlier': 2117, 'firesare': 2118, 'lovable': 2119, 'bcums': 2120, 'seriously': 2121, 'showing': 2122, 'deep': 2123, 'affection': 2124, 'kettoda': 2125, 'manda': 2126, 'business': 2127, 'picture': 2128, 'hurt': 2129, 'violated': 2130, 'clarification': 2131, '08715205273': 2132, '0721072': 2133, 'kappa': 2134, 'hmm': 2135, 'unfortunately': 2136, 'cakes': 2137, 'tho': 2138, '08719899230': 2139, 'wa': 2140, 'efficient': 2141, 'knickers': 2142, 'beg': 2143, '01223585236': 2144, 'nikiyu4net': 2145, 'lovin': 2146, 'brings': 2147, 'heroes': 2148, 'tips': 2149, 'flaky': 2150, 'possible': 2151, 'derek': 2152, 'problem': 2153, 'thts': 2154, '09077818151': 2155, 'calls150ppm': 2156, '30s': 2157, 'wwwsantacallingcom': 2158, 'yun': 2159, 'ahnow': 2160, 'wkg': 2161, 'wherebtw': 2162, 'nus': 2163, 'sc': 2164, 'wana': 2165, 'specialise': 2166, 'wad': 2167, '09053750005': 2168, '310303': 2169, '08718725756': 2170, '140ppm': 2171, 'icic': 2172, 'rp176781': 2173, 'wwwregalportfoliocouk': 2174, '08717205546': 2175, 'macedonia': 2176, 'goalsteam': 2177, 'trywales': 2178, 'scotland': 2179, '4txtì¼120': 2180, 'poboxox36504w45wq': 2181, 'lovly': 2182, 'ranjith': 2183, 'cal': 2184, 'drpd': 2185, 'deeraj': 2186, 'deepak': 2187, '5min': 2188, 'starshine': 2189, 'ache': 2190, 'sips': 2191, 'cappuccino': 2192, 'abeg': 2193, 'sponsors': 2194, 'event': 2195, 'near': 2196, 'continued': 2197, 'president': 2198, 'predict': 2199, 'uûªve': 2200, 'å50': 2201, 'instant': 2202, '08715203028': 2203, '9th': 2204, 'wins': 2205, 'å50å500': 2206, '02': 2207, 'tescos': 2208, 'la': 2209, 'studies': 2210, 'anyones': 2211, 'study': 2212, 'gloucesterroad': 2213, 'uup': 2214, 'thkin': 2215, 'goin': 2216, 'nd': 2217, 'parco': 2218, 'nb': 2219, 'luxury': 2220, 'canary': 2221, '20m12aq': 2222, 'ûï': 2223, 'ûïharry': 2224, 'potter': 2225, 'phoenix': 2226, 'harry': 2227, 'among': 2228, 'readers': 2229, 'lab': 2230, 'mmmm': 2231, 'weaknesses': 2232, 'pushes': 2233, 'exposes': 2234, 'belly': 2235, 'pulls': 2236, 'wicked': 2237, 'goldviking': 2238, '29m': 2239, 'yes762': 2240, 'no762': 2241, 'wwwsmsacugoldviking': 2242, 'noi': 2243, 'rumour': 2244, 'apartment': 2245, 'steam': 2246, 'salespee': 2247, 'eating': 2248, 'nachos': 2249, 'bothering': 2250, 'trust': 2251, 'answers': 2252, 'contents': 2253, '0578': 2254, 'comedycant': 2255, 'laughing': 2256, 'goodenvironment': 2257, 'terrific': 2258, 'disconnected': 2259, '078': 2260, 'adore': 2261, 'ahmad': 2262, 'kisses': 2263, 'ripped': 2264, 'wwwclubmobycom': 2265, '08717509990': 2266, 'polytruepixringtonesgames': 2267, 'orh': 2268, 'miserable': 2269, 'side': 2270, 'effects': 2271, 'birth': 2272, 'control': 2273, 'massive': 2274, 'gut': 2275, 'wrenching': 2276, 'cramps': 2277, 'tmrw': 2278, 'nuerologist': 2279, 'loooooool': 2280, 'makes': 2281, 'sofa': 2282, 'couch': 2283, 'celebration': 2284, 'rents': 2285, 'mini': 2286, 'snap': 2287, 'quizclub': 2288, '80122300pwk': 2289, 'sprwm': 2290, 'ph08704050406': 2291, 'mnths': 2292, '69855': 2293, 'stopbcm': 2294, 'sf': 2295, 'thasa': 2296, 'messed': 2297, 'upyeh': 2298, 'steyn': 2299, 'surely': 2300, 'wicket': 2301, 'meetin': 2302, 'cha': 2303, 'åð': 2304, 'lil': 2305, 'beverage': 2306, 'l8r': 2307, 'tired': 2308, 'vpist': 2309, 'call2optouthf8': 2310, 'kkwhere': 2311, '88800': 2312, '89034': 2313, '08718711108': 2314, '4eva': 2315, 'typical': 2316, 'ahsen': 2317, 'unless': 2318, 'person': 2319, 'ås': 2320, 'textsweekend': 2321, 'orno': 2322, '89105': 2323, 'films': 2324, 'goodmate': 2325, 'sary': 2326, 'asusual1': 2327, 'cheered': 2328, 'franyxxxxx': 2329, 'accept': 2330, 'begging': 2331, 'jordan': 2332, 'celeb': 2333, '087016248': 2334, 'jersey': 2335, 'devils': 2336, 'detroit': 2337, 'red': 2338, 'wings': 2339, 'ice': 2340, 'hockey': 2341, 'incorrect': 2342, 'messagethanks': 2343, '150pmsgrcvd': 2344, 'skip': 2345, 'customercare': 2346, '08718726270': 2347, 'nicenicehow': 2348, '83118': 2349, 'colin': 2350, 'farrell': 2351, 'swat': 2352, 'wkend': 2353, 'popcornjust': 2354, 'msgticket': 2355, 'kioskvalid': 2356, '4712': 2357, 'kiosk': 2358, 'mre': 2359, 'fran': 2360, 'broke': 2361, '2mrw': 2362, 'janx': 2363, 'ps': 2364, '08715500022': 2365, 'rpl': 2366, 'cnl': 2367, 'infact': 2368, 'housewives': 2369, '08717507711': 2370, 'btnational': 2371, 'landlines': 2372, 'gr8prizes': 2373, '8800': 2374, 'psp': 2375, 'wktxt': 2376, 'httpwwwgr8prizescom': 2377, 'punish': 2378, 'persons': 2379, 'bank': 2380, 'granite': 2381, 'issues': 2382, 'strongbuy': 2383, 'explosive': 2384, 'nasdaq': 2385, 'cdgt': 2386, 'erutupalam': 2387, 'thandiyachu': 2388, 'nelson': 2389, 'bbs': 2390, 'longer': 2391, 'expecting': 2392, 'aint': 2393, '08715203652': 2394, '42810': 2395, '29100': 2396, 'miwa': 2397, 'jiayin': 2398, 'social': 2399, '08718726970': 2400, 'jack': 2401, 'sayask': 2402, 'helpful': 2403, 'pretend': 2404, 'hypotheticalhuagauahahuagahyuhagga': 2405, 'lounge': 2406, 'passes': 2407, '08704439680': 2408, 'quote': 2409, 'lib': 2410, 'depends': 2411, 'individual': 2412, 'dresser': 2413, 'gong': 2414, 'kaypoh': 2415, 'collecting': 2416, 'websitenow': 2417, 'blogging': 2418, 'magicalsongsblogspotcom': 2419, 'quizwin': 2420, 'street': 2421, 'duchess': 2422, 'cornwall': 2423, '82277unsub': 2424, '008704050406': 2425, 'arrow': 2426, 'maps': 2427, 'dorm': 2428, 'teju': 2429, 'surya': 2430, 'vijay': 2431, 'pokkiri': 2432, '0906346330': 2433, '47': 2434, 'po19': 2435, '2ez': 2436, 'hopeing': 2437, 'wasnût': 2438, 'sisters': 2439, 'k718': 2440, '09065069120': 2441, 'shes': 2442, 'difficulties': 2443, 'smsservices': 2444, 'yourinclusive': 2445, '09050000460': 2446, 'j89': 2447, 'box245c2150pm': 2448, 'pt2': 2449, 'mobs': 2450, '2u': 2451, 'breathe1': 2452, 'crazyin': 2453, 'sleepingwith': 2454, 'finest': 2455, 'ymca': 2456, 'getzedcouk': 2457, 'pobox365o4w45wq': 2458, '83435': 2459, 'elvis': 2460, 'presleys': 2461, 'btw': 2462, 'alibi': 2463, 'cutting': 2464, 'prob': 2465, 'chinatown': 2466, 'porridge': 2467, 'claypot': 2468, 'rice': 2469, 'yam': 2470, 'fishhead': 2471, 'beehoon': 2472, 'cafe': 2473, 'tok': 2474, 'nydc': 2475, 'somethin': 2476, '49557': 2477, '261104': 2478, 'rg21': 2479, '4jx': 2480, '169': 2481, '6031': 2482, '10am9pm': 2483, 'muhommad': 2484, 'penny': 2485, 'panasonic': 2486, 'bluetoothhdset': 2487, 'doublemins': 2488, 'doubletxt': 2489, 'semester': 2490, 'belive': 2491, '08712402779': 2492, '69888nyt': 2493, '31pmsg': 2494, 'freenokia': 2495, 'or2optouthv9d': 2496, '530': 2497, 'vote': 2498, 'along': 2499, 'stars': 2500, 'kaiez': 2501, 'tuition': 2502, 'option': 2503, 'beta': 2504, 'yan': 2505, 'jiu': 2506, 'jay': 2507, 'noncomittal': 2508, 'gmw': 2509, 'connected': 2510, 'wishing': 2511, 'happiness': 2512, 'abiola': 2513, 'sexychat': 2514, 'collected': 2515, '85069': 2516, 'usher': 2517, 'britney': 2518, 'fml': 2519, 'sufficient': 2520, 'happens': 2521, 'stays': 2522, '27603': 2523, '08714714011': 2524, 'possession': 2525, 'mmm': 2526, 'lapdancer': 2527, 'g2': 2528, '1da': 2529, '150ppmsg': 2530, 'nyt': 2531, 'unsubscribed': 2532, 'tons': 2533, 'hunks': 2534, 'subscriptions': 2535, 'deepest': 2536, 'darkest': 2537, '09094646631': 2538, 'april': 2539, 'plm': 2540, 'bsn': 2541, 'advising': 2542, 'ringtoneget': 2543, 'freesend': 2544, '816183': 2545, 'weekstop': 2546, 'sms08718727870': 2547, 'almost': 2548, 'nap': 2549, 'smth': 2550, 'towards': 2551, 'rock': 2552, 'atm': 2553, 'slightly': 2554, 'disastrous': 2555, 'fav': 2556, 'darlings': 2557, 'wld': 2558, '0870k': 2559, '400minscall': 2560, 'call2optoutj5q': 2561, 'yesmum': 2562, 'lookin': 2563, 'ideas': 2564, 'mr': 2565, 'foley': 2566, 'prizes': 2567, 'eye': 2568, 'wwwwin82050couk': 2569, 'åè10': 2570, 'evey': 2571, 'mnth': 2572, 'list': 2573, 'wwwfullonsmscom': 2574, 'fullonsmscom': 2575, 'soiree': 2576, '3rd': 2577, 'thangamits': 2578, '3mobile': 2579, 'chatlines': 2580, 'inclu': 2581, 'servs': 2582, 'sed': 2583, 'l8er': 2584, 'mega': 2585, 'giv': 2586, 'bailiff': 2587, 'madam': 2588, 'wah': 2589, 'def': 2590, '08448350055': 2591, 'planettalkinstantcom': 2592, 'infernal': 2593, 'affairs': 2594, 'xy': 2595, 'ended': 2596, 'sunny': 2597, 'rays': 2598, 'leaves': 2599, 'bay': 2600, 'dang': 2601, 'ringtoneking': 2602, '84484': 2603, '0796xxxxxx': 2604, 'day2': 2605, 'prizeawaiting': 2606, 'unicefs': 2607, 'asian': 2608, 'tsunami': 2609, 'disaster': 2610, 'fund': 2611, '864233': 2612, 'jazz': 2613, 'power': 2614, 'yoga': 2615, 'hip': 2616, 'hop': 2617, 'kb': 2618, 'board': 2619, 'issue': 2620, 'overheating': 2621, 'reslove': 2622, 'inst': 2623, '8o': 2624, '08718726978': 2625, '10803': 2626, '08714719523': 2627, 'sup': 2628, 'alright': 2629, 'cold': 2630, 'serious': 2631, 'vitamin': 2632, 'funeral': 2633, 'audrey': 2634, 'asking': 2635, '420': 2636, 'downloaded': 2637, 'paid': 2638, 'mymoby': 2639, 'saying': 2640, 'welp': 2641, '08715203685': 2642, 'code4xx26': 2643, '131004': 2644, 'wear': 2645, 'shoes': 2646, 'win150ppmx3age16': 2647, '08452810071': 2648, 'reache': 2649, '020903': 2650, '08718729755': 2651, 'ssindia': 2652, 'south': 2653, 'african': 2654, 'soil': 2655, 'block': 2656, 'breaker': 2657, 'deluxe': 2658, 'format': 2659, 'features': 2660, 'graphics': 2661, 'å5': 2662, 'bbdeluxe': 2663, 'challenge': 2664, '08719181503': 2665, 'booked': 2666, 'including': 2667, 'dusk': 2668, 'solve': 2669, 'puzzles': 2670, 'xxxmobilemovieclub': 2671, 'xxxmobilemovieclubcomnqjkgighjjgcbl': 2672, 'goodmorning': 2673, 'ga': 2674, 'amy': 2675, 'parties': 2676, 'messagestext': 2677, 'nowuse': 2678, 'web2mobile': 2679, 'txt250com': 2680, '150pwk': 2681, 'box139': 2682, 'la32wu': 2683, 'txtx': 2684, 'dialogue': 2685, 'reltnship': 2686, 'die': 2687, 'å5month': 2688, 'treat': 2689, 'pendingi': 2690, 'dayswill': 2691, 'thrurespect': 2692, 'mother': 2693, 'homecheck': 2694, 'mails': 2695, 'escalator': 2696, 'swing': 2697, 'firsg': 2698, 'afternon': 2699, 'interviews': 2700, 'refilled': 2701, 'successfully': 2702, 'inr': 2703, 'keralacircle': 2704, 'prepaid': 2705, 'kr': 2706, 'reached': 2707, 'professional': 2708, 'tiger': 2709, 'woods': 2710, '448712404000please': 2711, '08712404000': 2712, '087018728737': 2713, 'toppoly': 2714, 'tune': 2715, '81618': 2716, 'pole': 2717, 'engagement': 2718, 'fixd': 2719, 'shocking': 2720, 'bthmm': 2721, 'njan': 2722, 'vilikkamt': 2723, 'ws': 2724, 'al': 2725, 'sudn': 2726, '146tf150p': 2727, 'air': 2728, 'balloon': 2729, 'remain': 2730, 'unconvinced': 2731, 'elaborate': 2732, 'willpower': 2733, '0871277810710pmin': 2734, 'stuck': 2735, 'cmon': 2736, 'turn': 2737, 'sticky': 2738, 'replies': 2739, 'technical': 2740, 'problems': 2741, 'virgins': 2742, 'sexual': 2743, '69911å150p': 2744, 'calicut': 2745, 'hooch': 2746, 'toaday': 2747, 'splat': 2748, 'grazed': 2749, 'stayed': 2750, 'lou': 2751, 'lancaster': 2752, 'bak': 2753, 'neway': 2754, 'couldnåõt': 2755, 'båõday': 2756, 'attend': 2757, '88877free': 2758, '88877': 2759, 'filthy': 2760, 'stories': 2761, 'yor': 2762, 'ownyouve': 2763, 'fill': 2764, 'gas': 2765, 'tank': 2766, 'stressed': 2767, 'depressed': 2768, 'thanksgiving': 2769, 'child': 2770, 'dark': 2771, 'become': 2772, 'teenager': 2773, 'wun': 2774, 'signing': 2775, 'ingredients': 2776, 'jays': 2777, 'impatient': 2778, 'belligerent': 2779, '0871277810910pmin': 2780, 'turning': 2781, 'hurts': 2782, '150pmeg': 2783, 'sang': 2784, 'uptown': 2785, '80s': 2786, 'prepare': 2787, 'pounded': 2788, 'math': 2789, '69200': 2790, 'hrs': 2791, 'chrgd': 2792, '2exit': 2793, 'turns': 2794, 'noooooooo': 2795, 'stress': 2796, 'agent': 2797, 'loads': 2798, 'goodies': 2799, 'mat': 2800, 'kit': 2801, 'strip': 2802, '1013': 2803, 'ig11': 2804, 'oja': 2805, 'theatre': 2806, 'wherever': 2807, 'marvel': 2808, 'ultimate': 2809, 'spiderman': 2810, 'spider': 2811, '83338': 2812, '8ball': 2813, 'wifehow': 2814, 'murder': 2815, 'exactly': 2816, 'didt': 2817, '08718726971': 2818, 'term': 2819, '54': 2820, 'resubmit': 2821, 'expiry': 2822, 'billy': 2823, 'jogging': 2824, 'themobhit': 2825, 'pink': 2826, 'panther': 2827, 'sugababes': 2828, 'zebra': 2829, 'animation': 2830, 'badass': 2831, 'hoody': 2832, 'wallpaperall': 2833, '08712402902': 2834, '08714712379': 2835, '07734396839': 2836, 'ibh': 2837, 'nokia6600': 2838, 'txtauctiontxt': 2839, 'wordstart': 2840, 'no81151': 2841, 'now4t': 2842, 'tomocant': 2843, 'full': 2844, 'phony': 2845, 'xxxx': 2846, '08717895698': 2847, 'mobstorequiz10ppm': 2848, '80086': 2849, 'wwwtxttowincouk': 2850, 'nite': 2851, 'banneduk': 2852, 'reason': 2853, 'budget': 2854, 'players': 2855, 'base': 2856, '09064017305': 2857, 'pobox75ldns7': 2858, 'text82228': 2859, 'logos': 2860, 'wwwtxt82228com': 2861, 'txt82228couk': 2862, 'åòits': 2863, 'flowers': 2864, 'christmas': 2865, '505060': 2866, 'geeee': 2867, 'cuddling': 2868, 'figure': 2869, 'suppose': 2870, 'different': 2871, 'formclark': 2872, 'utter': 2873, '07008009200': 2874, 'wrc': 2875, 'lucozade': 2876, 'le': 2877, '61200': 2878, 'packs': 2879, 'lucozadecoukwrc': 2880, 'itcould': 2881, 'tscs087147403231winawkage16': 2882, 'å150perwksub': 2883, 'appreciated': 2884, 'map': 2885, 'semi': 2886, 'argument': 2887, 'apart': 2888, 'becausethey': 2889, '09058098002': 2890, 'pobox1': 2891, 'w14rg': 2892, 'wedding': 2893, 'chapel': 2894, 'frontierville': 2895, 'realy': 2896, 'sorryi': 2897, 'recognise': 2898, 'strt': 2899, 'ltdhelpdesk': 2900, '02085076972': 2901, 'leaving': 2902, 'skillgame1winaweek': 2903, 'age16150ppermesssubscription': 2904, 'fink': 2905, 'wiv': 2906, '09099726553': 2907, 'promised': 2908, 'carlie': 2909, 'callså1minmobsmore': 2910, 'lkpobox177hp51fl': 2911, 'prizeto': 2912, 'headset': 2913, 'adp': 2914, 'sooner': 2915, 'gary': 2916, 'fix': 2917, 'cause': 2918, 'ptbo': 2919, 'hand': 2920, 'machines': 2921, 'qet': 2922, 'thinkin': 2923, 'gumbys': 2924, 'cheese': 2925, 'doin': 2926, 'realize': 2927, 'thousands': 2928, 'ladies': 2929, 'tattoos': 2930, '83370': 2931, 'wwwmusictrivianet': 2932, 'lose': 2933, 'general': 2934, 'ifwhenhow': 2935, 'na': 2936, 'rayman': 2937, 'golf': 2938, 'activ8': 2939, 'key': 2940, 'termsapply': 2941, 'nearly': 2942, 'banned': 2943, '09066649731from': 2944, 'asleep': 2945, '5iåõm': 2946, 'iåõm': 2947, 'dreading': 2948, 'thou': 2949, 'dado': 2950, 'fortune': 2951, 'loves': 2952, 'headache': 2953, 'chinese': 2954, 'fat': 2955, 'lipo': 2956, '09065171142stopsms08': 2957, '08712402972': 2958, 'career': 2959, 'flyng': 2960, 'star': 2961, 'aries': 2962, 'hottest': 2963, 'wanting': 2964, '21st': 2965, 'questionstd': 2966, 'ratetcs': 2967, '08452810075over18s': 2968, 'living': 2969, 'perfect': 2970, '100psms': 2971, '32000': 2972, 'legitimat': 2973, 'efreefone': 2974, '4goten': 2975, 'scammers': 2976, 'smartthough': 2977, 'respond': 2978, 'prem': 2979, 'msgsubscription': 2980, 'used': 2981, 'beware': 2982, 'dollar': 2983, 'february': 2984, 'recpt': 2985, '13': 2986, 'processed': 2987, 'svc': 2988, '69988': 2989, 'cartoon': 2990, 'temple': 2991, 'church': 2992, 'hook': 2993, 'totally': 2994, 'rejected': 2995, '80488biz': 2996, '0870737910216yrs': 2997, 'å150wk': 2998, '83021': 2999, 'sez': 3000, 'arab': 3001, 'evry1': 3002, 'eshxxxxxxxxxxx': 3003, '2000': 3004, '08712402050': 3005, 'lines': 3006, '10ppm': 3007, 'ag': 3008, 'promo': 3009, 'voucherstext': 3010, 'nowsavamobmember': 3011, 'penis': 3012, 'taunton': 3013, '1230': 3014, 'planned': 3015, 'okday': 3016, 'superb': 3017, 'grateful': 3018, 'happier': 3019, 'therell': 3020, 'minor': 3021, 'shindig': 3022, 'bloke': 3023, 'zoe': 3024, 'draws': 3025, 'chloe': 3026, 'smashed': 3027, 'missing': 3028, 'visionsmscom': 3029, '150ptext': 3030, 'advice': 3031, 'ngage': 3032, 'deck': 3033, 'wwwcnupdatescomnewsletter': 3034, 'alerts': 3035, 'liked': 3036, 'photos': 3037, 'converted': 3038, 'freemsgfeelin': 3039, 'lnly': 3040, 'pictxt': 3041, 'splashmobile': 3042, 'subscrition': 3043, 'costing': 3044, 'tonexs': 3045, 'renewed': 3046, 'wwwclubzedcouk': 3047, 'billing': 3048, 'weighed': 3049, 'weight': 3050, 'woohoo': 3051, 'sef': 3052, 'dey': 3053, 'laugh': 3054, 'meanwhile': 3055, 'anjie': 3056, 'objection': 3057, 'bf': 3058, '09058094455': 3059, 'rtking': 3060, 'pro': 3061, 'ringtonekingcouk': 3062, '08701237397': 3063, 'redeemable': 3064, 'wwwringtonekingcouk': 3065, 'amanda': 3066, 'regard': 3067, 'renewing': 3068, 'upgrading': 3069, 'current': 3070, '3680': 3071, 'subject': 3072, 'wats': 3073, 'bangbabes': 3074, 'bangb': 3075, 'internetservice': 3076, 'menu': 3077, '09096102316': 3078, 'jane': 3079, 'sink': 3080, 'paces': 3081, 'cage': 3082, 'surrounded': 3083, 'reminding': 3084, 'cuck': 3085, 'others': 3086, 'givits': 3087, 'kanoanyway': 3088, 'raviyog': 3089, 'peripherals': 3090, 'bhayandar': 3091, '2channel': 3092, 'leadership': 3093, 'skills': 3094, 'psychic': 3095, 'wquestion': 3096, 'realise': 3097, 'bother': 3098, 'exams': 3099, 'outta': 3100, 'cars': 3101, 'excellent': 3102, 'misundrstud': 3103, 'truth': 3104, 'urself': 3105, 'gn': 3106, '0anetworks': 3107, 'companies': 3108, 'responsible': 3109, 'suppliers': 3110, 'past': 3111, 'felt': 3112, 'inconsiderate': 3113, 'nag': 3114, 'however': 3115, 'recession': 3116, 'hence': 3117, 'askin': 3118, 'ahead': 3119, 'hiwhat': 3120, 'posh': 3121, 'birds': 3122, 'chaps': 3123, 'trial': 3124, 'prods': 3125, 'champneys': 3126, 'dob': 3127, 'ta': 3128, '09050000332': 3129, 'rstm': 3130, 'sw7': 3131, '3ss': 3132, 'di': 3133, 'nitros': 3134, 'crash': 3135, 'recieve': 3136, 'channel': 3137, 'teletext': 3138, 'pg': 3139, 'claims': 3140, '09050005321': 3141, '3pound': 3142, 'usf': 3143, '09090204448': 3144, 'minded': 3145, 'arrange': 3146, 'aå150': 3147, 'minapn': 3148, 'ls278bb': 3149, 'algarve': 3150, '88039skilgmetscs087147403231winawkage16å150perwksub': 3151, '09090900040': 3152, 'extreme': 3153, 'dirty': 3154, 'total': 3155, 'privacy': 3156, 'sic': 3157, '60p': 3158, '247mp': 3159, '0870753331018': 3160, 'msn': 3161, 'x29': 3162, '09065989180': 3163, 'complementary': 3164, 'wa14': 3165, '2px': 3166, 'sender': 3167, 'hol': 3168, 'wheres': 3169, 'replied': 3170, 'randy': 3171, 'female': 3172, '08718730555': 3173, '10am': 3174, '8pm': 3175, 'theyre': 3176, 'selling': 3177, 'fast': 3178, '08715203694': 3179, '09061213237': 3180, '177': 3181, 'm227xy': 3182, '07815296484': 3183, '41782': 3184, '181104': 3185, 'chatim': 3186, 'w8in': 3187, '4utxt': 3188, 'donût': 3189, 'weûll': 3190, 'pity': 3191, 'mood': 3192, 'soany': 3193, 'suggestions': 3194, 'kindly': 3195, 'flat': 3196, 'w4': 3197, '5wq': 3198, 'paperwork': 3199, 'texted': 3200, 'nervous': 3201, 'boss': 3202, 'knowing': 3203, 'fired': 3204, 'vat': 3205, 'resent': 3206, 'previous': 3207, 'failed': 3208, 'error': 3209, 'queries': 3210, 'customersqueries': 3211, 'netvisionukcom': 3212, 'alls': 3213, 'tog': 3214, 'musthu': 3215, 'pandy': 3216, '4w': 3217, 'technologies': 3218, 'todayhe': 3219, 'fb': 3220, 'rupaul': 3221, 'tool': 3222, 'yunny': 3223, 'citylink': 3224, '7250': 3225, 'hvae': 3226, '09061701444': 3227, '07090201529': 3228, 'kate': 3229, 'bloody': 3230, 'babyjontet': 3231, '12price': 3232, 'xnet': 3233, 'mins100txtmth': 3234, '2optoutd3wv': 3235, 'searching': 3236, 'dayshe': 3237, 'talent': 3238, 'nick': 3239, 'tom': 3240, 'fact': 3241, 'types': 3242, 'sun0819': 3243, 'posts': 3244, 'helloyou': 3245, 'seem': 3246, '08707500020': 3247, 'easier': 3248, 'wwwflirtpartyus': 3249, 'replys150': 3250, 'httptms': 3251, 'widelivecomindex': 3252, 'wmlid820554ad0a1705572711firsttrueåác': 3253, 'ringtoneåá': 3254, 'nightswe': 3255, 'port': 3256, 'step': 3257, 'liaotoo': 3258, 'ex': 3259, '28th': 3260, 'feb': 3261, '06': 3262, 'folks': 3263, '150psms': 3264, 'dedicated': 3265, 'dedicate': 3266, 'valuable': 3267, 'frnds': 3268, 'wwwtelediscountcouk': 3269, 'summers': 3270, 'matched': 3271, 'help08714742804': 3272, 'oranges': 3273, 'upd8': 3274, 'worlds': 3275, '83110': 3276, 'kickoff': 3277, 'informed': 3278, 'dessert': 3279, 'suntec': 3280, 'floppy': 3281, 'snappy': 3282, 'italian': 3283, 'designation': 3284, 'developer': 3285, 'dave': 3286, '09061743806': 3287, 'box326': 3288, 'ashwini': 3289, 'improved': 3290, 'dislikes': 3291, 'feathery': 3292, 'bowa': 3293, 'sec': 3294, 'olowoyey': 3295, 'uscedu': 3296, 'argentina': 3297, 'secretary': 3298, 'blessing': 3299, 'competition': 3300, '09050002311': 3301, 'b4280703': 3302, '08718727868': 3303, 'alertfrom': 3304, 'jeri': 3305, 'stewartsize': 3306, '2kbsubject': 3307, 'lowcost': 3308, 'prescripiton': 3309, 'drvgsto': 3310, 'training': 3311, '09058095201': 3312, 'ger': 3313, 'toking': 3314, 'syd': 3315, 'lehhaha': 3316, 'ceri': 3317, 'rebel': 3318, 'dreamz': 3319, 'buddy': 3320, 'blokes': 3321, 'oral': 3322, 'fave': 3323, 'position': 3324, 'comprehensive': 3325, 'flood': 3326, 'exam': 3327, 'snowboarding': 3328, 'planning': 3329, 'befor': 3330, 'goa': 3331, 'greet': 3332, 'affair': 3333, 'cheers': 3334, 'superior': 3335, 'department': 3336, 'except': 3337, 'oursso': 3338, 'youany': 3339, 'waheed': 3340, 'fathima': 3341, 'hr': 3342, 'nearby': 3343, 'cliffs': 3344, 'uncomfortable': 3345, 'gives': 3346, 'reasons': 3347, 'mallika': 3348, 'sherawat': 3349, 'lturlgt': 3350, 'help08700469649': 3351, 'box420': 3352, 'appreciate': 3353, 'sacrifice': 3354, '21': 3355, 'snow': 3356, 'divorce': 3357, 'barbie': 3358, 'kens': 3359, 'fans': 3360, 'str': 3361, '0870141701216': 3362, '4txt120p': 3363, '09064017295': 3364, '09050000928': 3365, 'colours': 3366, '241': 3367, '3lions': 3368, 'hyde': 3369, 'mel': 3370, 'opps': 3371, 'tts': 3372, 'rightio': 3373, '1148': 3374, 'bright': 3375, 'road': 3376, '630': 3377, 'lot': 3378, 'pple': 3379, 'safe': 3380, 'envy': 3381, 'sees': 3382, 'meive': 3383, 'hardly': 3384, 'gotany': 3385, 'gsex': 3386, '2667': 3387, 'wc1n': 3388, '3xx': 3389, 'kallis': 3390, 'dismissial': 3391, 'timing': 3392, 'corporation': 3393, 'gap': 3394, 'blakes': 3395, '82324': 3396, 'jess': 3397, '9061100010': 3398, 'wire3net': 3399, '1st4terms': 3400, 'mobcudb': 3401, 'firmware': 3402, 'gsoh': 3403, 'spam': 3404, 'ladiesu': 3405, 'gigolo': 3406, 'mens': 3407, 'oncall': 3408, 'mjzgroup': 3409, '087143423992stop': 3410, 'å150rcvd': 3411, 'dance': 3412, 'river': 3413, 'tb': 3414, 'chgs': 3415, 'submitting': 3416, 'project': 3417, 'yay': 3418, '09061702893': 3419, 'signin': 3420, 'iûll': 3421, 'itûs': 3422, 'perhaps': 3423, 'silly': 3424, 'isnût': 3425, 'likely': 3426, 'shy': 3427, '09058091870': 3428, '8000930705': 3429, 'spell': 3430, 'naughty': 3431, 'coast': 3432, 'financial': 3433, 'problemi': 3434, 'waitshould': 3435, 'ticket': 3436, 'byatch': 3437, 'whassup': 3438, 'neva': 3439, '08712400200': 3440, 'str8': 3441, 'classic': 3442, 'nokia150p': 3443, 'poly200p': 3444, 'oooh': 3445, 'plenty': 3446, '5226': 3447, 'hava': 3448, '1131': 3449, 'ru': 3450, 'walkabout': 3451, 'rd': 3452, '09058094583': 3453, 'sweater': 3454, 'mango': 3455, 'size': 3456, 'irritating': 3457, 'thesmszonecom': 3458, 'anonymous': 3459, 'masked': 3460, 'messagesim': 3461, 'theredo': 3462, 'abuse': 3463, '09050000878': 3464, 'recorder': 3465, 'canname': 3466, 'capital': 3467, 'australia': 3468, 'mquiz': 3469, 'spoke': 3470, 'maneesha': 3471, 'satisfied': 3472, 'toll': 3473, '09061790126': 3474, 'relieved': 3475, 'westonzoyland': 3476, 't91': 3477, 'gbp': 3478, '09057039994': 3479, 'tas': 3480, 'earn': 3481, 'si': 3482, 'rr': 3483, '69669': 3484, 'gprs': 3485, 'charges': 3486, 'lastest': 3487, 'stereophonics': 3488, 'marley': 3489, 'dizzee': 3490, 'racal': 3491, 'libertines': 3492, 'strokes': 3493, 'nookii': 3494, 'bookmark': 3495, 'ukp2000': 3496, '09061790125': 3497, 'mad': 3498, 'rgent': 3499, 'uu': 3500, 'å1250': 3501, '09071512433': 3502, '050703': 3503, 'tcsbcm4235wc1n3xx': 3504, 'callcost': 3505, 'mobilesvary': 3506, 'maxå7': 3507, 'otside': 3508, 'leu': 3509, '2morrow': 3510, 'maga': 3511, 'coulda': 3512, 'valentine': 3513, 'expired': 3514, 'resub': 3515, 'monoc': 3516, 'monos': 3517, 'polyc': 3518, 'stream': 3519, '0871212025016': 3520, 'cherish': 3521, 'role': 3522, 'model': 3523, 'arnt': 3524, 'xxxxxxxxxxxxxx': 3525, 'chances': 3526, '20000': 3527, 'csh11': 3528, '150pday': 3529, '6days': 3530, 'tsandcs': 3531, 'clearly': 3532, 'fault': 3533, 'til': 3534, 'expensive': 3535, 'naked': 3536, 'textcomp': 3537, 'follows': 3538, 'subsequent': 3539, '150pmsg2': 3540, '84128custcare': 3541, 'transport': 3542, 'less': 3543, 'problematic': 3544, 'definite': 3545, 'shd': 3546, 'bar': 3547, 'ûò': 3548, 'lord': 3549, 'ringsreturn': 3550, 'nowreply': 3551, 'soundtrack': 3552, 'stdtxtrate': 3553, 'effect': 3554, 'irritation': 3555, 'romcapspam': 3556, 'responding': 3557, 'presence': 3558, 'outgoing': 3559, 'bringing': 3560, 'breath': 3561, 'freemessage': 3562, 'jamsterget': 3563, 'frog': 3564, 'mad1': 3565, 'mad2': 3566, 'gbpweek': 3567, 'chechi': 3568, 'catching': 3569, 'officewhats': 3570, 'mattermsg': 3571, 'nowi': 3572, 'ate': 3573, 'slices': 3574, 'x49your': 3575, 'clip': 3576, '35p': 3577, 'mmsto': 3578, '32323': 3579, 'jaklin': 3580, 'idk': 3581, 'meal': 3582, 'dining': 3583, 'spend': 3584, 'lubly': 3585, 'freeringtone': 3586, 'real1': 3587, 'pushbutton': 3588, 'dontcha': 3589, 'babygoodbye': 3590, 'golddigger': 3591, 'webeburnin': 3592, '09061743810': 3593, '326': 3594, 'makin': 3595, 'weirdy': 3596, 'brownies': 3597, 'cookies': 3598, 'spacebucks': 3599, 'luton': 3600, '0125698789': 3601, 'h': 3602, 'havin': 3603, 'borin': 3604, '09099725823': 3605, 'lux': 3606, 'james': 3607, 'eh74rr': 3608, 'ba': 3609, 'gua': 3610, 'faber': 3611, 'stillmaybe': 3612, 'sameso': 3613, 'itor': 3614, 'admiti': 3615, 'madthen': 3616, 'correctionor': 3617, 'lifeand': 3618, 'worldmay': 3619, 'runninglets': 3620, 'buzy': 3621, '09061701851': 3622, 'k61': 3623, '12hours': 3624, 'level': 3625, 'record': 3626, 'especially': 3627, 'woulda': 3628, 'realized': 3629, '09066362220': 3630, 'carry': 3631, 'disturbing': 3632, 'maths': 3633, 'chapter': 3634, 'mm': 3635, 'sleepy': 3636, 'hoping': 3637, 'langport': 3638, 'gbpsms': 3639, '09058094507': 3640, 'storelike': 3641, 'cereals': 3642, 'gari': 3643, '9ja': 3644, 'cc100pmin': 3645, 'dog': 3646, '121': 3647, 'connect': 3648, '09094646899': 3649, 'vu': 3650, 'bcm1896wc1n3xx': 3651, 'call2optoutf4q': 3652, 'command': 3653, '850': 3654, 'toa': 3655, 'payoh': 3656, '650': 3657, 'burial': 3658, 'mojibiola': 3659, 'needle': 3660, 'evn': 3661, 'meetitz': 3662, '4few': 3663, 'seconds': 3664, 'alwys': 3665, 'conected': 3666, '9t': 3667, 'taj': 3668, 'mahal': 3669, 'lesser': 3670, 'known': 3671, 'facts': 3672, 'shahjahans': 3673, '4th': 3674, 'wifes': 3675, 'shahjahan': 3676, 'killed': 3677, 'husband': 3678, 'marry': 3679, 'arises': 3680, 'hari': 3681, '08701213186': 3682, 'frm': 3683, 'slowly': 3684, 'kills': 3685, 'row': 3686, 'november': 3687, '09061104276': 3688, 'wwwsmsconet': 3689, 'costå375max': 3690, '3680offer': 3691, '28thfebtcs': 3692, 'apply2': 3693, '07801543489': 3694, 'latests': 3695, 'wordcollect': 3696, 'no83355': 3697, 'tcllc': 3698, 'nyusa': 3699, '150pmt': 3700, 'msgrcvd18': 3701, 'nowadayslot': 3702, 'showroomscity': 3703, 'shaping': 3704, '08714712388': 3705, 'hmv1': 3706, 'rose': 3707, 'poet': 3708, 'imaginationmy': 3709, 'lovely': 3710, 'forever': 3711, 'stomach': 3712, 'twinks': 3713, 'scallies': 3714, 'skins': 3715, 'jocks': 3716, '08712466669': 3717, '08712460324nat': 3718, '7548': 3719, '4041': 3720, 'itlet': 3721, 'butt': 3722, 'hang': 3723, 'starving': 3724, 'cooked': 3725, 'flight': 3726, '69101': 3727, 'wwwrtfsphostingcom': 3728, 'moved': 3729, 'cud': 3730, 'chikkudb': 3731, 'painting': 3732, 'wall': 3733, 'select': 3734, 'benefits': 3735, 'trained': 3736, 'advisors': 3737, 'dialling': 3738, '402': 3739, 'recently': 3740, 'unable': 3741, '07090298926': 3742, 'reschedule': 3743, 'ref9307622': 3744, 'whenre': 3745, 'thinking': 3746, 'mcr': 3747, 'checking': 3748, 'someonone': 3749, '09064015307': 3750, 'detailed': 3751, 'supervisor': 3752, '09066358361': 3753, 'y87': 3754, 'falling': 3755, 'force': 3756, 'smeone': 3757, 'bslvyl': 3758, '09064012103': 3759, '09058099801': 3760, 'b4190604': 3761, '7876150ppm': 3762, 'saibaba': 3763, 'colany': 3764, 'tallent': 3765, 'wasting': 3766, 'aiyo': 3767, 'sleepin': 3768, 'empty': 3769, 'handed': 3770, '077xxx': 3771, '09066362206': 3772, 'simpsons': 3773, 'released': 3774, 'july': 3775, 'band': 3776, 'agreen': 3777, 'bblue': 3778, 'cred': 3779, 'nasty': 3780, 'filthyguys': 3781, 'bitch': 3782, 'slo': 3783, 'slo4msgs': 3784, 'coveragd': 3785, 'vasai': 3786, '4o': 3787, 'intrepid': 3788, 'duo': 3789, '09058095107': 3790, 's3xy': 3791, 'themobyo': 3792, 'yohere': 3793, '449month': 3794, 'bundle': 3795, 'deals': 3796, 'avble': 3797, 'call2optoutj': 3798, 'mf': 3799, 'sux': 3800, 'snake': 3801, 'raiden': 3802, 'whore': 3803, 'unbelievable': 3804, 'nimbomsons': 3805, 'wnt': 3806, 'tlk': 3807, 'paragon': 3808, 'gauge': 3809, 'pattys': 3810, 'interest': 3811, 'vpod': 3812, 'daddy': 3813, 'arranging': 3814, 'fetch': 3815, 'ran': 3816, 'the4th': 3817, 'october': 3818, '5p': 3819, '1225': 3820, 'å50award': 3821, '09050003091': 3822, 'c52': 3823, 'mums': 3824, 'present': 3825, 'ar': 3826, '74355': 3827, 'iscoming': 3828, 'tnc': 3829, '08718723815': 3830, 'dokey': 3831, 'swashbuckling': 3832, 'themp': 3833, 'adventuring': 3834, 'vid': 3835, 'keyword': 3836, 'sn': 3837, 'pobox202': 3838, 'nr31': 3839, '7zs': 3840, '450pw': 3841, 'ou': 3842, 'å1million': 3843, 'ppt150x3normal': 3844, 'box403': 3845, 'w1t1jy': 3846, 'å600': 3847, 'landmark': 3848, 'bob': 3849, 'barry': 3850, 'ben': 3851, '83738': 3852, 'mca': 3853, 'stupid': 3854, 'auto': 3855, 'aftr': 3856, 'decades': 3857, 'petrol': 3858, 'goverment': 3859, 'expects': 3860, 'drink': 3861, 'mytonecomenjoy': 3862, 'html': 3863, 'gbp450week': 3864, 'mfl': 3865, 'uworld': 3866, 'site': 3867, 'qbank': 3868, 'assessment': 3869, '0789xxxxxxx': 3870, 'removed': 3871, 'secretly': 3872, 'fancies': 3873, '09065394514': 3874, 'datebox1282essexcm61xn': 3875, 'hubbys': 3876, 'satisfy': 3877, '89938': 3878, 'strings': 3879, 'rec': 3880, 'å150ea': 3881, 'otbox': 3882, '731': 3883, 'la1': 3884, '7ws': 3885, '2wks': 3886, 'goals': 3887, 'villa': 3888, 'wwwapplausestorecom': 3889, 'monthlysubscription': 3890, '50pmsg': 3891, 'max6month': 3892, 'tcsc': 3893, '2stop': 3894, 'forgot': 3895, 'howz': 3896, 'painit': 3897, 'todaydo': 3898, 'ystrdayice': 3899, 'medicine': 3900, 'bull': 3901, 'floating': 3902, 'ikea': 3903, 'mess': 3904, 'ummmmmaah': 3905, 'returns': 3906, 'tddnewsletter': 3907, 'emc1couk': 3908, 'thedailydraw': 3909, 'helen': 3910, 'dozens': 3911, 'prizeswith': 3912, 'found': 3913, 'xafter': 3914, 'cst': 3915, 'chg': 3916, 'evenings': 3917, 'expect': 3918, 'tomo': 3919, 'yesbut': 3920, 'receivea': 3921, '09061701461': 3922, 'kl341': 3923, 'poor': 3924, '08719181259': 3925, 'xxxxx': 3926, '260305': 3927, 'tarot': 3928, '85555': 3929, 'doke': 3930, 'dressed': 3931, 'laying': 3932, 'whose': 3933, 'wwwtklscom': 3934, 'stoptxtstopå150week': 3935, '600': 3936, '400': 3937, 'deltomorrow': 3938, 'sen': 3939, 'minstexts': 3940, 'wining': 3941, '946': 3942, 'wot': 3943, 'aunt': 3944, 'nike': 3945, 'datingi': 3946, 'radio': 3947, 'connection': 3948, 'coincidence': 3949, '02072069400': 3950, 'bx': 3951, '526': 3952, 'romantic': 3953, 'å79': 3954, '08704439680tscs': 3955, 'spjanuary': 3956, '5903': 3957, '09064019788': 3958, 'box42wr29c': 3959, 'shoot': 3960, 'spiffing': 3961, 'workage': 3962, 'hubby': 3963, 'meetins': 3964, 'cumin': 3965, '09099726395': 3966, 'callså1minmobsmorelkpobox177hp51fl': 3967, 'weird': 3968, 'happening': 3969, '645pm': 3970, 'thatll': 3971, '09058097189': 3972, 'ls15hb': 3973, 'dat': 3974, 'shhhhh': 3975, 'scores': 3976, 'simple': 3977, 'shot': 3978, 'yards': 3979, 'bergkamp': 3980, 'margin': 3981, '78': 3982, 'r836': 3983, '09065069154': 3984, '1172': 3985, 'topped': 3986, 'renewal': 3987, 'tgxxrz': 3988, 'olympics': 3989, 'cps': 3990, 'causing': 3991, 'outages': 3992, 'conserve': 3993, '09094100151': 3994, 'cast': 3995, 'gbp5month': 3996, 'box61m60': 3997, '1er': 3998, 'ages': 3999, 'confuses': 4000, 'doesnût': 4001, 'b4u': 4002, 'wc': 4003, '2703': 4004, 'marsms': 4005, 'wwwb4utelecom': 4006, '08717168528': 4007, 'resume': 4008, 'onum': 4009, 'ela': 4010, 'nah': 4011, 'iphone': 4012, 'prices': 4013, 'mom': 4014, 'terrible': 4015, 'generally': 4016, 'uncountable': 4017, 'noun': 4018, 'dictionary': 4019, 'pieces': 4020, 'research': 4021, 'youwhen': 4022, 'wil': 4023, 'hiya': 4024, 'signal': 4025, 'neither': 4026, 'unusual': 4027, 'hugs': 4028, 'snogs': 4029, 'optin': 4030, 'bbc': 4031, 'charts': 4032, 'matthew': 4033, '09063440451': 4034, '4lux': 4035, 'ppm150': 4036, 'box334': 4037, '2nights': 4038, 'wildest': 4039, 'reaching': 4040, 'tp': 4041, '08000776320': 4042, 'ukmobiledate': 4043, '08719839835': 4044, 'mgs': 4045, '89123': 4046}\n",
            "There are 4046 unique tokens in training data. \n"
          ]
        }
      ]
    },
    {
      "cell_type": "code",
      "source": [
        "# Sequencing and padding on training and testing \n",
        "training_sequences = tokenizer.texts_to_sequences(train_msg)\n",
        "training_padded = pad_sequences (training_sequences, maxlen = max_len, padding = padding_type, truncating = trunc_type )\n",
        "testing_sequences = tokenizer.texts_to_sequences(test_msg)\n",
        "testing_padded = pad_sequences(testing_sequences, maxlen = max_len,\n",
        "padding = padding_type, truncating = trunc_type)"
      ],
      "metadata": {
        "id": "VNvqbXpekkXW"
      },
      "execution_count": null,
      "outputs": []
    },
    {
      "cell_type": "markdown",
      "source": [
        ""
      ],
      "metadata": {
        "id": "pNuh9M9akvrg"
      }
    },
    {
      "cell_type": "code",
      "source": [
        "len(training_sequences[0]), len(training_sequences[1])\n",
        "#len(training_padded[0]), len(training_padded[1])"
      ],
      "metadata": {
        "colab": {
          "base_uri": "https://localhost:8080/"
        },
        "id": "eGAQQOMWkwqR",
        "outputId": "c18ecf7c-1623-43ef-9e18-3c7b15e58901"
      },
      "execution_count": null,
      "outputs": [
        {
          "output_type": "execute_result",
          "data": {
            "text/plain": [
              "(16, 19)"
            ]
          },
          "metadata": {},
          "execution_count": 18
        }
      ]
    },
    {
      "cell_type": "code",
      "source": [
        "len(training_padded[0]), len(training_padded[1])\n"
      ],
      "metadata": {
        "colab": {
          "base_uri": "https://localhost:8080/"
        },
        "id": "MWOf0NLblGGA",
        "outputId": "a45a49fe-cb33-4751-ce80-873f4e679d73"
      },
      "execution_count": null,
      "outputs": [
        {
          "output_type": "execute_result",
          "data": {
            "text/plain": [
              "(50, 50)"
            ]
          },
          "metadata": {},
          "execution_count": 19
        }
      ]
    },
    {
      "cell_type": "code",
      "source": [
        "print(training_padded[0])"
      ],
      "metadata": {
        "colab": {
          "base_uri": "https://localhost:8080/"
        },
        "id": "9uVfdHY0lTBj",
        "outputId": "f5fddb5c-3cc8-4a0b-9aaf-b2f2dfff1ceb"
      },
      "execution_count": null,
      "outputs": [
        {
          "output_type": "stream",
          "name": "stdout",
          "text": [
            "[1106   11  538  655  160   71  220   62   11    4    2   11  160  819\n",
            "    4 1760    0    0    0    0    0    0    0    0    0    0    0    0\n",
            "    0    0    0    0    0    0    0    0    0    0    0    0    0    0\n",
            "    0    0    0    0    0    0    0    0]\n"
          ]
        }
      ]
    },
    {
      "cell_type": "code",
      "source": [
        "len(word_index)"
      ],
      "metadata": {
        "colab": {
          "base_uri": "https://localhost:8080/"
        },
        "id": "4exttC31BKuX",
        "outputId": "9c622c5d-7e04-474e-8fe6-96225e04d3ac"
      },
      "execution_count": null,
      "outputs": [
        {
          "output_type": "execute_result",
          "data": {
            "text/plain": [
              "4046"
            ]
          },
          "metadata": {},
          "execution_count": 21
        }
      ]
    },
    {
      "cell_type": "code",
      "source": [
        "vocab_size =len(word_index)+1 #added +1 here\n",
        "embeding_dim = 16\n",
        "n_lstm = 20  #dimensionality of the output space (no of output nodes)\n",
        "drop_lstm =0.2 \n"
      ],
      "metadata": {
        "id": "WCNKMt1IsMn7"
      },
      "execution_count": null,
      "outputs": []
    },
    {
      "cell_type": "code",
      "source": [
        "model = Sequential()\n",
        "model.add(Embedding(vocab_size, embeding_dim, input_length=max_len))\n",
        "model.add(LSTM(n_lstm, dropout=drop_lstm, return_sequences=True)) #return sequence set to true as the next lstm layer needs sequential input \n",
        "model.add(LSTM(n_lstm, dropout=drop_lstm, return_sequences=False))  #return sequence set to false as the next dense layer only needs a single output and no the whole sequence \n",
        "model.add(Dense(1, activation='sigmoid'))"
      ],
      "metadata": {
        "id": "U8p6mA6fsjza"
      },
      "execution_count": null,
      "outputs": []
    },
    {
      "cell_type": "code",
      "source": [
        "model.summary()"
      ],
      "metadata": {
        "colab": {
          "base_uri": "https://localhost:8080/"
        },
        "id": "VEDwBVt7tCO4",
        "outputId": "4bd05bf4-c8d2-4f58-9265-79e37b9c75a1"
      },
      "execution_count": null,
      "outputs": [
        {
          "output_type": "stream",
          "name": "stdout",
          "text": [
            "Model: \"sequential\"\n",
            "_________________________________________________________________\n",
            " Layer (type)                Output Shape              Param #   \n",
            "=================================================================\n",
            " embedding (Embedding)       (None, 50, 16)            64752     \n",
            "                                                                 \n",
            " lstm (LSTM)                 (None, 50, 20)            2960      \n",
            "                                                                 \n",
            " lstm_1 (LSTM)               (None, 20)                3280      \n",
            "                                                                 \n",
            " dense (Dense)               (None, 1)                 21        \n",
            "                                                                 \n",
            "=================================================================\n",
            "Total params: 71,013\n",
            "Trainable params: 71,013\n",
            "Non-trainable params: 0\n",
            "_________________________________________________________________\n"
          ]
        }
      ]
    },
    {
      "cell_type": "code",
      "source": [
        "model.compile(loss = 'binary_crossentropy', optimizer = 'adam', metrics=['accuracy'])"
      ],
      "metadata": {
        "id": "FvPKQgfdsqOy"
      },
      "execution_count": null,
      "outputs": []
    },
    {
      "cell_type": "code",
      "source": [
        "training_padded.shape #same as the length of training set (no of sequences)"
      ],
      "metadata": {
        "colab": {
          "base_uri": "https://localhost:8080/"
        },
        "id": "tg45xfBu92Rn",
        "outputId": "03802dcb-cf7b-4997-f72c-c42b189ebe08"
      },
      "execution_count": null,
      "outputs": [
        {
          "output_type": "execute_result",
          "data": {
            "text/plain": [
              "(1195, 50)"
            ]
          },
          "metadata": {},
          "execution_count": 26
        }
      ]
    },
    {
      "cell_type": "code",
      "source": [
        "#generating a random array of values apart from training set and using it to check the shape of output given by the prediction\n",
        "model.predict(np.random.rand(1,50)).shape\n"
      ],
      "metadata": {
        "colab": {
          "base_uri": "https://localhost:8080/"
        },
        "id": "TqcZHCER9oSk",
        "outputId": "7695c530-fd5a-4fec-eaa9-de9ea2b92f3b"
      },
      "execution_count": null,
      "outputs": [
        {
          "output_type": "execute_result",
          "data": {
            "text/plain": [
              "(1, 1)"
            ]
          },
          "metadata": {},
          "execution_count": 27
        }
      ]
    },
    {
      "cell_type": "code",
      "source": [
        "num_epochs = 30\n",
        "early_stop = EarlyStopping(monitor='val_loss', patience=2)\n",
        "history = model.fit(training_padded, train_labels, epochs=num_epochs, validation_data=(testing_padded, test_labels),callbacks =[early_stop], verbose=2)"
      ],
      "metadata": {
        "colab": {
          "base_uri": "https://localhost:8080/"
        },
        "id": "3WiwLUoussvw",
        "outputId": "a99c852a-5eb0-40dc-add1-626f92962cf9"
      },
      "execution_count": null,
      "outputs": [
        {
          "output_type": "stream",
          "name": "stdout",
          "text": [
            "Epoch 1/30\n",
            "38/38 - 5s - loss: 0.6932 - accuracy: 0.4954 - val_loss: 0.6922 - val_accuracy: 0.7525 - 5s/epoch - 132ms/step\n",
            "Epoch 2/30\n",
            "38/38 - 1s - loss: 0.5285 - accuracy: 0.7548 - val_loss: 0.2186 - val_accuracy: 0.9498 - 1s/epoch - 28ms/step\n",
            "Epoch 3/30\n",
            "38/38 - 1s - loss: 0.1766 - accuracy: 0.9582 - val_loss: 0.1874 - val_accuracy: 0.9498 - 1s/epoch - 28ms/step\n",
            "Epoch 4/30\n",
            "38/38 - 1s - loss: 0.0841 - accuracy: 0.9841 - val_loss: 0.2227 - val_accuracy: 0.9431 - 1s/epoch - 28ms/step\n",
            "Epoch 5/30\n",
            "38/38 - 1s - loss: 0.0559 - accuracy: 0.9916 - val_loss: 0.1770 - val_accuracy: 0.9565 - 1s/epoch - 28ms/step\n",
            "Epoch 6/30\n",
            "38/38 - 1s - loss: 0.0801 - accuracy: 0.9841 - val_loss: 0.2910 - val_accuracy: 0.9264 - 1s/epoch - 28ms/step\n",
            "Epoch 7/30\n",
            "38/38 - 1s - loss: 0.0872 - accuracy: 0.9766 - val_loss: 0.1839 - val_accuracy: 0.9398 - 1s/epoch - 28ms/step\n"
          ]
        }
      ]
    },
    {
      "cell_type": "code",
      "source": [
        "pd.options.display.max_colwidth=100\n",
        "new_df[:3]"
      ],
      "metadata": {
        "colab": {
          "base_uri": "https://localhost:8080/",
          "height": 143
        },
        "id": "NIb3mMW2h4qB",
        "outputId": "57087aef-a903-4507-f4f8-aab33fae2f04"
      },
      "execution_count": null,
      "outputs": [
        {
          "output_type": "execute_result",
          "data": {
            "text/plain": [
              "     v1  \\\n",
              "0   ham   \n",
              "1   ham   \n",
              "2  spam   \n",
              "\n",
              "                                                                                                    v2  \n",
              "0                   go jurong point crazy available bugis n great world la e buffet cine got amore wat  \n",
              "1                                                                              ok lar joking wif u oni  \n",
              "2  free entry 2 wkly comp win fa cup final tkts 21st may 2005 text fa 87121 receive entry questions...  "
            ],
            "text/html": [
              "\n",
              "  <div id=\"df-9ab97094-4433-4bc9-8fa8-e3beea31ab9c\">\n",
              "    <div class=\"colab-df-container\">\n",
              "      <div>\n",
              "<style scoped>\n",
              "    .dataframe tbody tr th:only-of-type {\n",
              "        vertical-align: middle;\n",
              "    }\n",
              "\n",
              "    .dataframe tbody tr th {\n",
              "        vertical-align: top;\n",
              "    }\n",
              "\n",
              "    .dataframe thead th {\n",
              "        text-align: right;\n",
              "    }\n",
              "</style>\n",
              "<table border=\"1\" class=\"dataframe\">\n",
              "  <thead>\n",
              "    <tr style=\"text-align: right;\">\n",
              "      <th></th>\n",
              "      <th>v1</th>\n",
              "      <th>v2</th>\n",
              "    </tr>\n",
              "  </thead>\n",
              "  <tbody>\n",
              "    <tr>\n",
              "      <th>0</th>\n",
              "      <td>ham</td>\n",
              "      <td>go jurong point crazy available bugis n great world la e buffet cine got amore wat</td>\n",
              "    </tr>\n",
              "    <tr>\n",
              "      <th>1</th>\n",
              "      <td>ham</td>\n",
              "      <td>ok lar joking wif u oni</td>\n",
              "    </tr>\n",
              "    <tr>\n",
              "      <th>2</th>\n",
              "      <td>spam</td>\n",
              "      <td>free entry 2 wkly comp win fa cup final tkts 21st may 2005 text fa 87121 receive entry questions...</td>\n",
              "    </tr>\n",
              "  </tbody>\n",
              "</table>\n",
              "</div>\n",
              "      <button class=\"colab-df-convert\" onclick=\"convertToInteractive('df-9ab97094-4433-4bc9-8fa8-e3beea31ab9c')\"\n",
              "              title=\"Convert this dataframe to an interactive table.\"\n",
              "              style=\"display:none;\">\n",
              "        \n",
              "  <svg xmlns=\"http://www.w3.org/2000/svg\" height=\"24px\"viewBox=\"0 0 24 24\"\n",
              "       width=\"24px\">\n",
              "    <path d=\"M0 0h24v24H0V0z\" fill=\"none\"/>\n",
              "    <path d=\"M18.56 5.44l.94 2.06.94-2.06 2.06-.94-2.06-.94-.94-2.06-.94 2.06-2.06.94zm-11 1L8.5 8.5l.94-2.06 2.06-.94-2.06-.94L8.5 2.5l-.94 2.06-2.06.94zm10 10l.94 2.06.94-2.06 2.06-.94-2.06-.94-.94-2.06-.94 2.06-2.06.94z\"/><path d=\"M17.41 7.96l-1.37-1.37c-.4-.4-.92-.59-1.43-.59-.52 0-1.04.2-1.43.59L10.3 9.45l-7.72 7.72c-.78.78-.78 2.05 0 2.83L4 21.41c.39.39.9.59 1.41.59.51 0 1.02-.2 1.41-.59l7.78-7.78 2.81-2.81c.8-.78.8-2.07 0-2.86zM5.41 20L4 18.59l7.72-7.72 1.47 1.35L5.41 20z\"/>\n",
              "  </svg>\n",
              "      </button>\n",
              "      \n",
              "  <style>\n",
              "    .colab-df-container {\n",
              "      display:flex;\n",
              "      flex-wrap:wrap;\n",
              "      gap: 12px;\n",
              "    }\n",
              "\n",
              "    .colab-df-convert {\n",
              "      background-color: #E8F0FE;\n",
              "      border: none;\n",
              "      border-radius: 50%;\n",
              "      cursor: pointer;\n",
              "      display: none;\n",
              "      fill: #1967D2;\n",
              "      height: 32px;\n",
              "      padding: 0 0 0 0;\n",
              "      width: 32px;\n",
              "    }\n",
              "\n",
              "    .colab-df-convert:hover {\n",
              "      background-color: #E2EBFA;\n",
              "      box-shadow: 0px 1px 2px rgba(60, 64, 67, 0.3), 0px 1px 3px 1px rgba(60, 64, 67, 0.15);\n",
              "      fill: #174EA6;\n",
              "    }\n",
              "\n",
              "    [theme=dark] .colab-df-convert {\n",
              "      background-color: #3B4455;\n",
              "      fill: #D2E3FC;\n",
              "    }\n",
              "\n",
              "    [theme=dark] .colab-df-convert:hover {\n",
              "      background-color: #434B5C;\n",
              "      box-shadow: 0px 1px 3px 1px rgba(0, 0, 0, 0.15);\n",
              "      filter: drop-shadow(0px 1px 2px rgba(0, 0, 0, 0.3));\n",
              "      fill: #FFFFFF;\n",
              "    }\n",
              "  </style>\n",
              "\n",
              "      <script>\n",
              "        const buttonEl =\n",
              "          document.querySelector('#df-9ab97094-4433-4bc9-8fa8-e3beea31ab9c button.colab-df-convert');\n",
              "        buttonEl.style.display =\n",
              "          google.colab.kernel.accessAllowed ? 'block' : 'none';\n",
              "\n",
              "        async function convertToInteractive(key) {\n",
              "          const element = document.querySelector('#df-9ab97094-4433-4bc9-8fa8-e3beea31ab9c');\n",
              "          const dataTable =\n",
              "            await google.colab.kernel.invokeFunction('convertToInteractive',\n",
              "                                                     [key], {});\n",
              "          if (!dataTable) return;\n",
              "\n",
              "          const docLinkHtml = 'Like what you see? Visit the ' +\n",
              "            '<a target=\"_blank\" href=https://colab.research.google.com/notebooks/data_table.ipynb>data table notebook</a>'\n",
              "            + ' to learn more about interactive tables.';\n",
              "          element.innerHTML = '';\n",
              "          dataTable['output_type'] = 'display_data';\n",
              "          await google.colab.output.renderOutput(dataTable, element);\n",
              "          const docLink = document.createElement('div');\n",
              "          docLink.innerHTML = docLinkHtml;\n",
              "          element.appendChild(docLink);\n",
              "        }\n",
              "      </script>\n",
              "    </div>\n",
              "  </div>\n",
              "  "
            ]
          },
          "metadata": {},
          "execution_count": 31
        }
      ]
    },
    {
      "cell_type": "code",
      "source": [
        "predict_msg = [\"Go until jurong point, crazy.. Available only in bugis n great world la e buffet... Cine there got amore wat...\",\n",
        "          \"Ok lar... Joking wif u oni...\",\n",
        "          \"Free entry in 2 a wkly comp to win FA Cup final tkts 21st May 2005. Text FA to 87121 to receive entry question(std txt rate)T&C's apply 08452810075over18's\"]"
      ],
      "metadata": {
        "id": "Ntb4A1C5ict9"
      },
      "execution_count": null,
      "outputs": []
    },
    {
      "cell_type": "code",
      "source": [
        "def predict_spam(predict_msg):\n",
        "    new_seq = tokenizer.texts_to_sequences(predict_msg)\n",
        "    padded = pad_sequences(new_seq, maxlen =max_len,\n",
        "                      padding = padding_type,\n",
        "                      truncating=trunc_type)\n",
        "    return (model.predict(padded))\n",
        "predict_spam(predict_msg)"
      ],
      "metadata": {
        "colab": {
          "base_uri": "https://localhost:8080/"
        },
        "id": "r4T0XDA3ihEX",
        "outputId": "067e019b-7892-4705-e771-3a3e3ae94336"
      },
      "execution_count": null,
      "outputs": [
        {
          "output_type": "execute_result",
          "data": {
            "text/plain": [
              "array([[0.0280531 ],\n",
              "       [0.02782118],\n",
              "       [0.9904642 ]], dtype=float32)"
            ]
          },
          "metadata": {},
          "execution_count": 33
        }
      ]
    },
    {
      "cell_type": "code",
      "source": [
        "predict_msg = [\"COngratulations you have won a lottery worth 10k dollars. Call on 9576901-11182 to claim your prize\",\n",
        "               \"Hi. My name is Ananya. I study in Mukesh patel college of engineering.\",\n",
        "          \"What's up?\"]\n",
        "predict_spam(predict_msg)"
      ],
      "metadata": {
        "colab": {
          "base_uri": "https://localhost:8080/"
        },
        "id": "8B1QOhm4iydC",
        "outputId": "296122c0-7fd2-4b6d-b44e-114bd72d3d42"
      },
      "execution_count": null,
      "outputs": [
        {
          "output_type": "execute_result",
          "data": {
            "text/plain": [
              "array([[0.990089  ],\n",
              "       [0.02925703],\n",
              "       [0.02784169]], dtype=float32)"
            ]
          },
          "metadata": {},
          "execution_count": 36
        }
      ]
    },
    {
      "cell_type": "markdown",
      "source": [
        "As observed from above, the model has quite correctly classified the first message as spam (99%) and the other two as ham"
      ],
      "metadata": {
        "id": "Vxww5vsAnVj1"
      }
    }
  ]
}